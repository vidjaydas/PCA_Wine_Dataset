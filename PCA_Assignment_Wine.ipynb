{
  "nbformat": 4,
  "nbformat_minor": 0,
  "metadata": {
    "colab": {
      "name": "PCA_Assignment_Wine.ipynb",
      "provenance": []
    },
    "kernelspec": {
      "name": "python3",
      "display_name": "Python 3"
    },
    "language_info": {
      "name": "python"
    }
  },
  "cells": [
    {
      "cell_type": "code",
      "metadata": {
        "id": "znR5MYGiAwq0"
      },
      "source": [
        "import pandas as pd\n",
        "import numpy as np"
      ],
      "execution_count": 1,
      "outputs": []
    },
    {
      "cell_type": "code",
      "metadata": {
        "id": "s9SUVs9AC9Dc"
      },
      "source": [
        "data = pd.read_csv('/content/wine.csv')"
      ],
      "execution_count": 2,
      "outputs": []
    },
    {
      "cell_type": "code",
      "metadata": {
        "colab": {
          "base_uri": "https://localhost:8080/",
          "height": 224
        },
        "id": "BVjIOMIADBYS",
        "outputId": "d865e85e-9b26-4b5a-948f-d8c2d8fe5c4a"
      },
      "source": [
        "data.head()"
      ],
      "execution_count": 3,
      "outputs": [
        {
          "output_type": "execute_result",
          "data": {
            "text/html": [
              "<div>\n",
              "<style scoped>\n",
              "    .dataframe tbody tr th:only-of-type {\n",
              "        vertical-align: middle;\n",
              "    }\n",
              "\n",
              "    .dataframe tbody tr th {\n",
              "        vertical-align: top;\n",
              "    }\n",
              "\n",
              "    .dataframe thead th {\n",
              "        text-align: right;\n",
              "    }\n",
              "</style>\n",
              "<table border=\"1\" class=\"dataframe\">\n",
              "  <thead>\n",
              "    <tr style=\"text-align: right;\">\n",
              "      <th></th>\n",
              "      <th>Type</th>\n",
              "      <th>Alcohol</th>\n",
              "      <th>Malic</th>\n",
              "      <th>Ash</th>\n",
              "      <th>Alcalinity</th>\n",
              "      <th>Magnesium</th>\n",
              "      <th>Phenols</th>\n",
              "      <th>Flavanoids</th>\n",
              "      <th>Nonflavanoids</th>\n",
              "      <th>Proanthocyanins</th>\n",
              "      <th>Color</th>\n",
              "      <th>Hue</th>\n",
              "      <th>Dilution</th>\n",
              "      <th>Proline</th>\n",
              "    </tr>\n",
              "  </thead>\n",
              "  <tbody>\n",
              "    <tr>\n",
              "      <th>0</th>\n",
              "      <td>1</td>\n",
              "      <td>14.23</td>\n",
              "      <td>1.71</td>\n",
              "      <td>2.43</td>\n",
              "      <td>15.6</td>\n",
              "      <td>127</td>\n",
              "      <td>2.80</td>\n",
              "      <td>3.06</td>\n",
              "      <td>0.28</td>\n",
              "      <td>2.29</td>\n",
              "      <td>5.64</td>\n",
              "      <td>1.04</td>\n",
              "      <td>3.92</td>\n",
              "      <td>1065</td>\n",
              "    </tr>\n",
              "    <tr>\n",
              "      <th>1</th>\n",
              "      <td>1</td>\n",
              "      <td>13.20</td>\n",
              "      <td>1.78</td>\n",
              "      <td>2.14</td>\n",
              "      <td>11.2</td>\n",
              "      <td>100</td>\n",
              "      <td>2.65</td>\n",
              "      <td>2.76</td>\n",
              "      <td>0.26</td>\n",
              "      <td>1.28</td>\n",
              "      <td>4.38</td>\n",
              "      <td>1.05</td>\n",
              "      <td>3.40</td>\n",
              "      <td>1050</td>\n",
              "    </tr>\n",
              "    <tr>\n",
              "      <th>2</th>\n",
              "      <td>1</td>\n",
              "      <td>13.16</td>\n",
              "      <td>2.36</td>\n",
              "      <td>2.67</td>\n",
              "      <td>18.6</td>\n",
              "      <td>101</td>\n",
              "      <td>2.80</td>\n",
              "      <td>3.24</td>\n",
              "      <td>0.30</td>\n",
              "      <td>2.81</td>\n",
              "      <td>5.68</td>\n",
              "      <td>1.03</td>\n",
              "      <td>3.17</td>\n",
              "      <td>1185</td>\n",
              "    </tr>\n",
              "    <tr>\n",
              "      <th>3</th>\n",
              "      <td>1</td>\n",
              "      <td>14.37</td>\n",
              "      <td>1.95</td>\n",
              "      <td>2.50</td>\n",
              "      <td>16.8</td>\n",
              "      <td>113</td>\n",
              "      <td>3.85</td>\n",
              "      <td>3.49</td>\n",
              "      <td>0.24</td>\n",
              "      <td>2.18</td>\n",
              "      <td>7.80</td>\n",
              "      <td>0.86</td>\n",
              "      <td>3.45</td>\n",
              "      <td>1480</td>\n",
              "    </tr>\n",
              "    <tr>\n",
              "      <th>4</th>\n",
              "      <td>1</td>\n",
              "      <td>13.24</td>\n",
              "      <td>2.59</td>\n",
              "      <td>2.87</td>\n",
              "      <td>21.0</td>\n",
              "      <td>118</td>\n",
              "      <td>2.80</td>\n",
              "      <td>2.69</td>\n",
              "      <td>0.39</td>\n",
              "      <td>1.82</td>\n",
              "      <td>4.32</td>\n",
              "      <td>1.04</td>\n",
              "      <td>2.93</td>\n",
              "      <td>735</td>\n",
              "    </tr>\n",
              "  </tbody>\n",
              "</table>\n",
              "</div>"
            ],
            "text/plain": [
              "   Type  Alcohol  Malic   Ash  ...  Color   Hue  Dilution  Proline\n",
              "0     1    14.23   1.71  2.43  ...   5.64  1.04      3.92     1065\n",
              "1     1    13.20   1.78  2.14  ...   4.38  1.05      3.40     1050\n",
              "2     1    13.16   2.36  2.67  ...   5.68  1.03      3.17     1185\n",
              "3     1    14.37   1.95  2.50  ...   7.80  0.86      3.45     1480\n",
              "4     1    13.24   2.59  2.87  ...   4.32  1.04      2.93      735\n",
              "\n",
              "[5 rows x 14 columns]"
            ]
          },
          "metadata": {
            "tags": []
          },
          "execution_count": 3
        }
      ]
    },
    {
      "cell_type": "code",
      "metadata": {
        "colab": {
          "base_uri": "https://localhost:8080/",
          "height": 317
        },
        "id": "iOZ1fBe7DCx7",
        "outputId": "b2e82f18-9d48-441d-f115-7ac15c82da33"
      },
      "source": [
        "data.describe()"
      ],
      "execution_count": 4,
      "outputs": [
        {
          "output_type": "execute_result",
          "data": {
            "text/html": [
              "<div>\n",
              "<style scoped>\n",
              "    .dataframe tbody tr th:only-of-type {\n",
              "        vertical-align: middle;\n",
              "    }\n",
              "\n",
              "    .dataframe tbody tr th {\n",
              "        vertical-align: top;\n",
              "    }\n",
              "\n",
              "    .dataframe thead th {\n",
              "        text-align: right;\n",
              "    }\n",
              "</style>\n",
              "<table border=\"1\" class=\"dataframe\">\n",
              "  <thead>\n",
              "    <tr style=\"text-align: right;\">\n",
              "      <th></th>\n",
              "      <th>Type</th>\n",
              "      <th>Alcohol</th>\n",
              "      <th>Malic</th>\n",
              "      <th>Ash</th>\n",
              "      <th>Alcalinity</th>\n",
              "      <th>Magnesium</th>\n",
              "      <th>Phenols</th>\n",
              "      <th>Flavanoids</th>\n",
              "      <th>Nonflavanoids</th>\n",
              "      <th>Proanthocyanins</th>\n",
              "      <th>Color</th>\n",
              "      <th>Hue</th>\n",
              "      <th>Dilution</th>\n",
              "      <th>Proline</th>\n",
              "    </tr>\n",
              "  </thead>\n",
              "  <tbody>\n",
              "    <tr>\n",
              "      <th>count</th>\n",
              "      <td>178.000000</td>\n",
              "      <td>178.000000</td>\n",
              "      <td>178.000000</td>\n",
              "      <td>178.000000</td>\n",
              "      <td>178.000000</td>\n",
              "      <td>178.000000</td>\n",
              "      <td>178.000000</td>\n",
              "      <td>178.000000</td>\n",
              "      <td>178.000000</td>\n",
              "      <td>178.000000</td>\n",
              "      <td>178.000000</td>\n",
              "      <td>178.000000</td>\n",
              "      <td>178.000000</td>\n",
              "      <td>178.000000</td>\n",
              "    </tr>\n",
              "    <tr>\n",
              "      <th>mean</th>\n",
              "      <td>1.938202</td>\n",
              "      <td>13.000618</td>\n",
              "      <td>2.336348</td>\n",
              "      <td>2.366517</td>\n",
              "      <td>19.494944</td>\n",
              "      <td>99.741573</td>\n",
              "      <td>2.295112</td>\n",
              "      <td>2.029270</td>\n",
              "      <td>0.361854</td>\n",
              "      <td>1.590899</td>\n",
              "      <td>5.058090</td>\n",
              "      <td>0.957449</td>\n",
              "      <td>2.611685</td>\n",
              "      <td>746.893258</td>\n",
              "    </tr>\n",
              "    <tr>\n",
              "      <th>std</th>\n",
              "      <td>0.775035</td>\n",
              "      <td>0.811827</td>\n",
              "      <td>1.117146</td>\n",
              "      <td>0.274344</td>\n",
              "      <td>3.339564</td>\n",
              "      <td>14.282484</td>\n",
              "      <td>0.625851</td>\n",
              "      <td>0.998859</td>\n",
              "      <td>0.124453</td>\n",
              "      <td>0.572359</td>\n",
              "      <td>2.318286</td>\n",
              "      <td>0.228572</td>\n",
              "      <td>0.709990</td>\n",
              "      <td>314.907474</td>\n",
              "    </tr>\n",
              "    <tr>\n",
              "      <th>min</th>\n",
              "      <td>1.000000</td>\n",
              "      <td>11.030000</td>\n",
              "      <td>0.740000</td>\n",
              "      <td>1.360000</td>\n",
              "      <td>10.600000</td>\n",
              "      <td>70.000000</td>\n",
              "      <td>0.980000</td>\n",
              "      <td>0.340000</td>\n",
              "      <td>0.130000</td>\n",
              "      <td>0.410000</td>\n",
              "      <td>1.280000</td>\n",
              "      <td>0.480000</td>\n",
              "      <td>1.270000</td>\n",
              "      <td>278.000000</td>\n",
              "    </tr>\n",
              "    <tr>\n",
              "      <th>25%</th>\n",
              "      <td>1.000000</td>\n",
              "      <td>12.362500</td>\n",
              "      <td>1.602500</td>\n",
              "      <td>2.210000</td>\n",
              "      <td>17.200000</td>\n",
              "      <td>88.000000</td>\n",
              "      <td>1.742500</td>\n",
              "      <td>1.205000</td>\n",
              "      <td>0.270000</td>\n",
              "      <td>1.250000</td>\n",
              "      <td>3.220000</td>\n",
              "      <td>0.782500</td>\n",
              "      <td>1.937500</td>\n",
              "      <td>500.500000</td>\n",
              "    </tr>\n",
              "    <tr>\n",
              "      <th>50%</th>\n",
              "      <td>2.000000</td>\n",
              "      <td>13.050000</td>\n",
              "      <td>1.865000</td>\n",
              "      <td>2.360000</td>\n",
              "      <td>19.500000</td>\n",
              "      <td>98.000000</td>\n",
              "      <td>2.355000</td>\n",
              "      <td>2.135000</td>\n",
              "      <td>0.340000</td>\n",
              "      <td>1.555000</td>\n",
              "      <td>4.690000</td>\n",
              "      <td>0.965000</td>\n",
              "      <td>2.780000</td>\n",
              "      <td>673.500000</td>\n",
              "    </tr>\n",
              "    <tr>\n",
              "      <th>75%</th>\n",
              "      <td>3.000000</td>\n",
              "      <td>13.677500</td>\n",
              "      <td>3.082500</td>\n",
              "      <td>2.557500</td>\n",
              "      <td>21.500000</td>\n",
              "      <td>107.000000</td>\n",
              "      <td>2.800000</td>\n",
              "      <td>2.875000</td>\n",
              "      <td>0.437500</td>\n",
              "      <td>1.950000</td>\n",
              "      <td>6.200000</td>\n",
              "      <td>1.120000</td>\n",
              "      <td>3.170000</td>\n",
              "      <td>985.000000</td>\n",
              "    </tr>\n",
              "    <tr>\n",
              "      <th>max</th>\n",
              "      <td>3.000000</td>\n",
              "      <td>14.830000</td>\n",
              "      <td>5.800000</td>\n",
              "      <td>3.230000</td>\n",
              "      <td>30.000000</td>\n",
              "      <td>162.000000</td>\n",
              "      <td>3.880000</td>\n",
              "      <td>5.080000</td>\n",
              "      <td>0.660000</td>\n",
              "      <td>3.580000</td>\n",
              "      <td>13.000000</td>\n",
              "      <td>1.710000</td>\n",
              "      <td>4.000000</td>\n",
              "      <td>1680.000000</td>\n",
              "    </tr>\n",
              "  </tbody>\n",
              "</table>\n",
              "</div>"
            ],
            "text/plain": [
              "             Type     Alcohol       Malic  ...         Hue    Dilution      Proline\n",
              "count  178.000000  178.000000  178.000000  ...  178.000000  178.000000   178.000000\n",
              "mean     1.938202   13.000618    2.336348  ...    0.957449    2.611685   746.893258\n",
              "std      0.775035    0.811827    1.117146  ...    0.228572    0.709990   314.907474\n",
              "min      1.000000   11.030000    0.740000  ...    0.480000    1.270000   278.000000\n",
              "25%      1.000000   12.362500    1.602500  ...    0.782500    1.937500   500.500000\n",
              "50%      2.000000   13.050000    1.865000  ...    0.965000    2.780000   673.500000\n",
              "75%      3.000000   13.677500    3.082500  ...    1.120000    3.170000   985.000000\n",
              "max      3.000000   14.830000    5.800000  ...    1.710000    4.000000  1680.000000\n",
              "\n",
              "[8 rows x 14 columns]"
            ]
          },
          "metadata": {
            "tags": []
          },
          "execution_count": 4
        }
      ]
    },
    {
      "cell_type": "code",
      "metadata": {
        "colab": {
          "base_uri": "https://localhost:8080/"
        },
        "id": "Ig9HJTn0FQ4C",
        "outputId": "86dba3d6-ce00-42b8-da78-12e574f799a9"
      },
      "source": [
        "data.isna().sum()"
      ],
      "execution_count": 5,
      "outputs": [
        {
          "output_type": "execute_result",
          "data": {
            "text/plain": [
              "Type               0\n",
              "Alcohol            0\n",
              "Malic              0\n",
              "Ash                0\n",
              "Alcalinity         0\n",
              "Magnesium          0\n",
              "Phenols            0\n",
              "Flavanoids         0\n",
              "Nonflavanoids      0\n",
              "Proanthocyanins    0\n",
              "Color              0\n",
              "Hue                0\n",
              "Dilution           0\n",
              "Proline            0\n",
              "dtype: int64"
            ]
          },
          "metadata": {
            "tags": []
          },
          "execution_count": 5
        }
      ]
    },
    {
      "cell_type": "code",
      "metadata": {
        "colab": {
          "base_uri": "https://localhost:8080/"
        },
        "id": "fSubfSl3FU_c",
        "outputId": "17483f43-6f9c-43fc-a66e-ce8a4123f1a3"
      },
      "source": [
        "data.info()"
      ],
      "execution_count": 6,
      "outputs": [
        {
          "output_type": "stream",
          "text": [
            "<class 'pandas.core.frame.DataFrame'>\n",
            "RangeIndex: 178 entries, 0 to 177\n",
            "Data columns (total 14 columns):\n",
            " #   Column           Non-Null Count  Dtype  \n",
            "---  ------           --------------  -----  \n",
            " 0   Type             178 non-null    int64  \n",
            " 1   Alcohol          178 non-null    float64\n",
            " 2   Malic            178 non-null    float64\n",
            " 3   Ash              178 non-null    float64\n",
            " 4   Alcalinity       178 non-null    float64\n",
            " 5   Magnesium        178 non-null    int64  \n",
            " 6   Phenols          178 non-null    float64\n",
            " 7   Flavanoids       178 non-null    float64\n",
            " 8   Nonflavanoids    178 non-null    float64\n",
            " 9   Proanthocyanins  178 non-null    float64\n",
            " 10  Color            178 non-null    float64\n",
            " 11  Hue              178 non-null    float64\n",
            " 12  Dilution         178 non-null    float64\n",
            " 13  Proline          178 non-null    int64  \n",
            "dtypes: float64(11), int64(3)\n",
            "memory usage: 19.6 KB\n"
          ],
          "name": "stdout"
        }
      ]
    },
    {
      "cell_type": "code",
      "metadata": {
        "colab": {
          "base_uri": "https://localhost:8080/"
        },
        "id": "sHUHk96jFZtk",
        "outputId": "ad6e35ec-f4e3-4a44-f557-7a14779dfe1b"
      },
      "source": [
        "data.value_counts()"
      ],
      "execution_count": 8,
      "outputs": [
        {
          "output_type": "execute_result",
          "data": {
            "text/plain": [
              "Type  Alcohol  Malic  Ash   Alcalinity  Magnesium  Phenols  Flavanoids  Nonflavanoids  Proanthocyanins  Color  Hue   Dilution  Proline\n",
              "3     14.34    1.68   2.70  25.0        98         2.80     1.31        0.53           2.70             13.00  0.57  1.96      660        1\n",
              "1     14.10    2.16   2.30  18.0        105        2.95     3.32        0.22           2.38             5.75   1.25  3.17      1510       1\n",
              "2     11.61    1.35   2.70  20.0        94         2.74     2.92        0.29           2.49             2.65   0.96  3.26      680        1\n",
              "      11.56    2.05   3.23  28.5        119        3.18     5.08        0.47           1.87             6.00   0.93  3.69      465        1\n",
              "      11.46    3.74   1.82  19.5        107        3.18     2.58        0.24           3.58             2.90   0.75  2.81      562        1\n",
              "                                                                                                                                         ..\n",
              "      12.69    1.53   2.26  20.7        80         1.38     1.46        0.58           1.62             3.05   0.96  2.06      495        1\n",
              "      12.67    0.98   2.24  18.0        99         2.20     1.94        0.30           1.46             2.62   1.23  3.16      450        1\n",
              "      12.64    1.36   2.02  16.8        100        2.02     1.41        0.53           0.62             5.75   0.98  1.59      450        1\n",
              "      12.60    1.34   1.90  18.5        88         1.45     1.36        0.29           1.35             2.45   1.04  2.77      562        1\n",
              "1     12.85    1.60   2.52  17.8        95         2.48     2.37        0.26           1.46             3.93   1.09  3.63      1015       1\n",
              "Length: 178, dtype: int64"
            ]
          },
          "metadata": {
            "tags": []
          },
          "execution_count": 8
        }
      ]
    },
    {
      "cell_type": "code",
      "metadata": {
        "colab": {
          "base_uri": "https://localhost:8080/"
        },
        "id": "y5Z9UC4iGYEZ",
        "outputId": "a9fe29d2-535d-4759-a47a-458f4c693fee"
      },
      "source": [
        "# Converting into numpy array\n",
        "data1 = data.values\n",
        "data1"
      ],
      "execution_count": 10,
      "outputs": [
        {
          "output_type": "execute_result",
          "data": {
            "text/plain": [
              "array([[1.000e+00, 1.423e+01, 1.710e+00, ..., 1.040e+00, 3.920e+00,\n",
              "        1.065e+03],\n",
              "       [1.000e+00, 1.320e+01, 1.780e+00, ..., 1.050e+00, 3.400e+00,\n",
              "        1.050e+03],\n",
              "       [1.000e+00, 1.316e+01, 2.360e+00, ..., 1.030e+00, 3.170e+00,\n",
              "        1.185e+03],\n",
              "       ...,\n",
              "       [3.000e+00, 1.327e+01, 4.280e+00, ..., 5.900e-01, 1.560e+00,\n",
              "        8.350e+02],\n",
              "       [3.000e+00, 1.317e+01, 2.590e+00, ..., 6.000e-01, 1.620e+00,\n",
              "        8.400e+02],\n",
              "       [3.000e+00, 1.413e+01, 4.100e+00, ..., 6.100e-01, 1.600e+00,\n",
              "        5.600e+02]])"
            ]
          },
          "metadata": {
            "tags": []
          },
          "execution_count": 10
        }
      ]
    },
    {
      "cell_type": "code",
      "metadata": {
        "id": "K9_s4ZH8HVIi"
      },
      "source": [
        "from sklearn.decomposition import PCA\n",
        "import matplotlib.pyplot as plt\n",
        "from sklearn.preprocessing import scale"
      ],
      "execution_count": 12,
      "outputs": []
    },
    {
      "cell_type": "code",
      "metadata": {
        "colab": {
          "base_uri": "https://localhost:8080/"
        },
        "id": "pNRcZYBYG3Ok",
        "outputId": "53b59f08-16e0-4d77-f664-666842edab8e"
      },
      "source": [
        "#Normalizing the numerical data\n",
        "data1_normal = scale(data1)\n",
        "data1_normal"
      ],
      "execution_count": 13,
      "outputs": [
        {
          "output_type": "execute_result",
          "data": {
            "text/plain": [
              "array([[-1.21394365,  1.51861254, -0.5622498 , ...,  0.36217728,\n",
              "         1.84791957,  1.01300893],\n",
              "       [-1.21394365,  0.24628963, -0.49941338, ...,  0.40605066,\n",
              "         1.1134493 ,  0.96524152],\n",
              "       [-1.21394365,  0.19687903,  0.02123125, ...,  0.31830389,\n",
              "         0.78858745,  1.39514818],\n",
              "       ...,\n",
              "       [ 1.37386437,  0.33275817,  1.74474449, ..., -1.61212515,\n",
              "        -1.48544548,  0.28057537],\n",
              "       [ 1.37386437,  0.20923168,  0.22769377, ..., -1.56825176,\n",
              "        -1.40069891,  0.29649784],\n",
              "       [ 1.37386437,  1.39508604,  1.58316512, ..., -1.52437837,\n",
              "        -1.42894777, -0.59516041]])"
            ]
          },
          "metadata": {
            "tags": []
          },
          "execution_count": 13
        }
      ]
    },
    {
      "cell_type": "code",
      "metadata": {
        "id": "cbSJFMHeHQD2"
      },
      "source": [
        "pca = PCA()\n",
        "pca_values = pca.fit_transform(data1_normal)"
      ],
      "execution_count": 14,
      "outputs": []
    },
    {
      "cell_type": "code",
      "metadata": {
        "colab": {
          "base_uri": "https://localhost:8080/"
        },
        "id": "Mv7g3FrcHriu",
        "outputId": "98f71e98-f7fa-41a6-eaf3-2802f9d4208d"
      },
      "source": [
        "#Final PCA Scores\n",
        "pca_values"
      ],
      "execution_count": 15,
      "outputs": [
        {
          "output_type": "execute_result",
          "data": {
            "text/plain": [
              "array([[-3.52293390e+00, -1.45309844e+00, -1.64795488e-01, ...,\n",
              "         5.52927766e-01, -3.02978176e-01,  2.00857450e-01],\n",
              "       [-2.52885806e+00,  3.30019252e-01, -2.02670665e+00, ...,\n",
              "         3.94971160e-01, -1.46645308e-01,  1.26402355e-01],\n",
              "       [-2.78502898e+00, -1.03693595e+00,  9.83237703e-01, ...,\n",
              "         1.89799314e-03,  2.12780166e-02, -5.57515155e-02],\n",
              "       ...,\n",
              "       [ 3.02727243e+00, -2.75604024e+00, -9.40803036e-01, ...,\n",
              "         6.93336340e-01,  1.67035660e-01, -3.16957430e-02],\n",
              "       [ 2.75522166e+00, -2.29378408e+00, -5.50473677e-01, ...,\n",
              "         3.44119826e-01, -1.09514873e-01,  1.02823104e-01],\n",
              "       [ 3.49633565e+00, -2.76060799e+00,  1.01315115e+00, ...,\n",
              "        -1.89866131e-01, -1.64090011e-01, -2.64916504e-01]])"
            ]
          },
          "metadata": {
            "tags": []
          },
          "execution_count": 15
        }
      ]
    },
    {
      "cell_type": "code",
      "metadata": {
        "id": "ZcsZ_MTOHxcN"
      },
      "source": [
        "#Selecting the first 3 PCA scores\n",
        "pca = PCA(n_components=8)\n",
        "pca_values = pca.fit_transform(data1_normal)"
      ],
      "execution_count": 68,
      "outputs": []
    },
    {
      "cell_type": "code",
      "metadata": {
        "id": "YGHSNjvzIJUL"
      },
      "source": [
        "pca_values"
      ],
      "execution_count": null,
      "outputs": []
    },
    {
      "cell_type": "code",
      "metadata": {
        "colab": {
          "base_uri": "https://localhost:8080/"
        },
        "id": "oBW4GYeLIK-T",
        "outputId": "5c7fd680-82b4-4aa1-bcb1-5366b2d88515"
      },
      "source": [
        "# The amount of variance that each PCA ecplains\n",
        "var = pca.explained_variance_ratio_\n",
        "var\n",
        "# How much percentage each variance is giing us"
      ],
      "execution_count": 69,
      "outputs": [
        {
          "output_type": "execute_result",
          "data": {
            "text/plain": [
              "array([0.39542486, 0.17836259, 0.10329102, 0.06627984, 0.06267875,\n",
              "       0.0480556 , 0.03955707, 0.02500244])"
            ]
          },
          "metadata": {
            "tags": []
          },
          "execution_count": 69
        }
      ]
    },
    {
      "cell_type": "code",
      "metadata": {
        "colab": {
          "base_uri": "https://localhost:8080/"
        },
        "id": "ADdNu7jWIa8u",
        "outputId": "2c179a42-2aea-4dc5-a260-68a3695175e4"
      },
      "source": [
        "#Cumulative variance\n",
        "var1 = np.cumsum(np.round(var, decimals=4)*100)\n",
        "var1"
      ],
      "execution_count": 70,
      "outputs": [
        {
          "output_type": "execute_result",
          "data": {
            "text/plain": [
              "array([39.54, 57.38, 67.71, 74.34, 80.61, 85.42, 89.38, 91.88])"
            ]
          },
          "metadata": {
            "tags": []
          },
          "execution_count": 70
        }
      ]
    },
    {
      "cell_type": "code",
      "metadata": {
        "colab": {
          "base_uri": "https://localhost:8080/"
        },
        "id": "f3y5I7vIJosF",
        "outputId": "922e5859-519c-4aab-a72d-446e64076e35"
      },
      "source": [
        "#Eigen vectors\n",
        "pca.components_"
      ],
      "execution_count": 71,
      "outputs": [
        {
          "output_type": "execute_result",
          "data": {
            "text/plain": [
              "array([[ 0.39366953, -0.13632501,  0.22267638, -0.00225793,  0.22429849,\n",
              "        -0.12463016, -0.35926404, -0.39071171,  0.2670012 , -0.2790625 ,\n",
              "         0.08931829, -0.27682265, -0.35052618, -0.26951525],\n",
              "       [-0.00569041, -0.48416087, -0.22359095, -0.31585588,  0.01161574,\n",
              "        -0.30055143, -0.06711983,  0.00131345, -0.0269887 , -0.04122256,\n",
              "        -0.52978274,  0.27790735,  0.16277625, -0.36605886],\n",
              "       [ 0.00121795, -0.20740081,  0.08879606,  0.62610236,  0.6119896 ,\n",
              "         0.13098458,  0.14650775,  0.15096275,  0.16997551,  0.14987959,\n",
              "        -0.1372663 ,  0.08532854,  0.16620436, -0.12668685],\n",
              "       [ 0.12246373, -0.08191848,  0.46988824, -0.24984122,  0.07199322,\n",
              "        -0.16321412,  0.19098521,  0.14461667, -0.32801272,  0.46275771,\n",
              "         0.07211248, -0.43466618,  0.15672341, -0.2557949 ],\n",
              "       [ 0.15758395, -0.25089415, -0.18860015, -0.0935236 ,  0.0465675 ,\n",
              "         0.77833048, -0.14466563, -0.11200553, -0.43257916,  0.0915882 ,\n",
              "        -0.0462696 , -0.02986657, -0.14419358, -0.08440794],\n",
              "       [ 0.20033864, -0.13517139, -0.59841948, -0.10799983,  0.08811224,\n",
              "        -0.14483831,  0.14809748,  0.06247252,  0.25868639,  0.46627764,\n",
              "         0.42525454, -0.01565089, -0.21770365, -0.0665655 ],\n",
              "       [-0.05938234, -0.09269887,  0.3743698 , -0.16708856, -0.26872469,\n",
              "         0.32957951, -0.03789829, -0.06773223,  0.61111195,  0.42292282,\n",
              "        -0.18613617,  0.19204101, -0.0785098 ,  0.0542037 ],\n",
              "       [-0.07179553, -0.42154435, -0.08757556,  0.17208034, -0.41324857,\n",
              "         0.14881189,  0.36343884,  0.175405  ,  0.23075135, -0.3437392 ,\n",
              "         0.04069617, -0.48362564,  0.06865116, -0.11146671]])"
            ]
          },
          "metadata": {
            "tags": []
          },
          "execution_count": 71
        }
      ]
    },
    {
      "cell_type": "code",
      "metadata": {
        "colab": {
          "base_uri": "https://localhost:8080/",
          "height": 282
        },
        "id": "fHCNhHclJ5h4",
        "outputId": "5e8ac76a-ae0e-4104-c584-710d17750e1f"
      },
      "source": [
        "#Variance plot for PCA components obtained\n",
        "plt.plot(var1, color='red')"
      ],
      "execution_count": 72,
      "outputs": [
        {
          "output_type": "execute_result",
          "data": {
            "text/plain": [
              "[<matplotlib.lines.Line2D at 0x7f04ace833d0>]"
            ]
          },
          "metadata": {
            "tags": []
          },
          "execution_count": 72
        },
        {
          "output_type": "display_data",
          "data": {
            "image/png": "[encoded data removed]",
            "text/plain": [
              "<Figure size 432x288 with 1 Axes>"
            ]
          },
          "metadata": {
            "tags": [],
            "needs_background": "light"
          }
        }
      ]
    },
    {
      "cell_type": "code",
      "metadata": {
        "colab": {
          "base_uri": "https://localhost:8080/"
        },
        "id": "Sz61cdxRKFrs",
        "outputId": "ddcdb09c-22f5-4f65-cae3-3e970297126d"
      },
      "source": [
        "#Slicing the PC's and get first 3 columns\n",
        "pca_values[:,0:3]"
      ],
      "execution_count": 80,
      "outputs": [
        {
          "output_type": "execute_result",
          "data": {
            "text/plain": [
              "array([[-3.52293390e+00, -1.45309844e+00, -1.64795488e-01],\n",
              "       [-2.52885806e+00,  3.30019252e-01, -2.02670665e+00],\n",
              "       [-2.78502898e+00, -1.03693595e+00,  9.83237703e-01],\n",
              "       [-3.92258841e+00, -2.76821026e+00, -1.74968168e-01],\n",
              "       [-1.40751111e+00, -8.67773087e-01,  2.02582949e+00],\n",
              "       [-3.28812981e+00, -2.13017513e+00, -6.28992339e-01],\n",
              "       [-2.75057754e+00, -1.17916999e+00, -9.77337471e-01],\n",
              "       [-2.39286652e+00, -1.61128232e+00,  1.45729462e-01],\n",
              "       [-2.79525633e+00, -9.23179517e-01, -1.77092548e+00],\n",
              "       [-3.00559666e+00, -7.96284169e-01, -9.83741629e-01],\n",
              "       [-3.67868855e+00, -1.31252342e+00, -4.21854170e-01],\n",
              "       [-2.10963477e+00, -6.12981986e-01, -1.19156995e+00],\n",
              "       [-2.43845636e+00, -6.78523310e-01, -8.65513701e-01],\n",
              "       [-3.67349453e+00, -1.14012136e+00, -1.20376870e+00],\n",
              "       [-4.44157575e+00, -2.11031917e+00, -1.26245041e+00],\n",
              "       [-2.60892387e+00, -1.66641801e+00,  2.17632760e-01],\n",
              "       [-2.47542846e+00, -2.33089672e+00,  8.31602071e-01],\n",
              "       [-2.22623243e+00, -1.63359016e+00,  7.94557947e-01],\n",
              "       [-3.74226929e+00, -2.52840527e+00, -4.84832351e-01],\n",
              "       [-2.39441150e+00, -1.06452946e+00, -1.64711761e-01],\n",
              "       [-3.33656895e+00, -7.96012794e-01, -3.63852323e-01],\n",
              "       [-1.48140399e+00, -2.40085474e-01,  9.36230971e-01],\n",
              "       [-2.82806867e+00,  8.68575524e-02, -3.11966722e-01],\n",
              "       [-2.00771405e+00,  5.15616487e-01,  1.43253973e-01],\n",
              "       [-2.11463604e+00,  3.15920569e-01,  8.89723442e-01],\n",
              "       [-1.39753751e+00, -9.38215285e-01,  3.81984245e+00],\n",
              "       [-2.13348803e+00, -6.87102046e-01, -8.74580629e-02],\n",
              "       [-1.62970383e+00,  9.11840303e-02, -1.38781727e+00],\n",
              "       [-2.50760753e+00, -6.92749833e-01,  1.39417153e+00],\n",
              "       [-2.55948318e+00, -1.95472900e-01, -1.09267935e+00],\n",
              "       [-2.77244452e+00, -1.24635279e+00,  1.38625548e+00],\n",
              "       [-2.93513374e+00, -1.47827883e+00, -3.31852675e-01],\n",
              "       [-1.99124842e+00, -5.32520145e-02, -1.67814766e-01],\n",
              "       [-2.24570987e+00, -1.63466910e+00,  1.17138376e+00],\n",
              "       [-1.78698628e+00, -6.97480386e-01,  4.78958711e-01],\n",
              "       [-2.22763867e+00, -1.79288919e-01,  4.50723842e-01],\n",
              "       [-1.76802847e+00, -6.57872308e-01,  4.57519616e-01],\n",
              "       [-1.52317798e+00, -1.12225053e-01, -4.01116946e-02],\n",
              "       [-1.87236494e+00,  7.69305759e-01, -1.42681925e+00],\n",
              "       [-2.79711434e+00, -1.80880887e+00, -3.42657071e-01],\n",
              "       [-2.84093569e+00, -7.86161567e-01, -1.17781870e-01],\n",
              "       [-1.10557210e+00, -1.65884925e-01, -7.84568985e-01],\n",
              "       [-3.30689482e+00, -1.16395547e+00, -3.12199951e-01],\n",
              "       [-9.04798423e-01, -3.26072432e-01, -2.02584244e-01],\n",
              "       [-2.39683569e+00,  6.69059447e-02, -6.55487425e-01],\n",
              "       [-1.53781235e+00, -1.77507765e+00,  2.76685888e-02],\n",
              "       [-2.99121644e+00, -1.19762255e+00, -5.39465841e-01],\n",
              "       [-3.05931631e+00, -6.53821958e-01, -1.15475795e+00],\n",
              "       [-2.31877146e+00, -1.25023668e+00, -5.72980142e-02],\n",
              "       [-2.95947229e+00, -1.75860365e+00, -6.42655624e-01],\n",
              "       [-3.41218130e+00, -1.76915806e-01, -1.97228204e+00],\n",
              "       [-3.11637827e+00, -7.52108734e-01,  4.99813751e-03],\n",
              "       [-3.70021113e+00, -1.62309187e+00, -5.19868451e-01],\n",
              "       [-2.53754828e+00, -1.87852793e+00,  3.39182163e-01],\n",
              "       [-2.44478924e+00, -1.02071516e+00, -9.57570940e-01],\n",
              "       [-2.72281451e+00, -1.33524369e+00,  5.14188852e-01],\n",
              "       [-2.98531677e+00, -1.44363759e+00, -6.11793476e-01],\n",
              "       [-2.48814690e+00, -1.21549250e+00,  2.61493332e-01],\n",
              "       [-3.35128665e+00, -1.74060283e+00, -2.84735130e-01],\n",
              "       [ 8.74925041e-01,  3.07772383e+00, -4.58564619e+00],\n",
              "       [ 1.41466076e+00,  1.38995420e+00, -8.76470824e-01],\n",
              "       [ 1.71387916e+00,  8.38856075e-01, -1.60707177e+00],\n",
              "       [-1.22968607e-02,  1.26269589e+00, -1.78460521e+00],\n",
              "       [-1.83310122e+00,  1.91338608e+00, -5.30878166e-03],\n",
              "       [ 5.74535949e-01,  1.91115097e+00,  6.78679017e-01],\n",
              "       [-7.91471156e-01,  7.58725519e-01,  5.74195746e-01],\n",
              "       [-2.02003148e+00,  1.87213142e+00, -2.02970053e+00],\n",
              "       [-1.43280980e-01,  2.42575691e+00, -1.06951469e+00],\n",
              "       [ 7.51507665e-01,  2.25209017e-01, -7.08153727e-01],\n",
              "       [-1.74032573e+00,  1.39100815e+00, -1.23560112e+00],\n",
              "       [ 1.47630041e+00,  8.92248586e-01, -6.29942735e-01],\n",
              "       [-1.49197779e+00,  9.47927081e-01,  1.95383697e+00],\n",
              "       [ 6.93966859e-01,  1.06686332e+00,  7.98642383e-02],\n",
              "       [-2.29945716e+00, -2.74358507e-01,  3.37681721e+00],\n",
              "       [-1.63413138e+00,  1.27738980e+00,  4.60188129e-01],\n",
              "       [ 8.28999321e-01,  2.44770579e+00, -1.56370418e+00],\n",
              "       [-3.00431755e-01,  2.15106456e+00, -2.44873945e+00],\n",
              "       [ 1.36117820e+00,  1.39034627e+00, -2.28302697e-01],\n",
              "       [-1.09604852e+00,  7.62642821e-01, -1.18237277e+00],\n",
              "       [-3.19219739e-01,  1.02477043e+00,  1.79482091e+00],\n",
              "       [-6.71257572e-01,  3.37052496e+00, -3.56702471e-01],\n",
              "       [-9.24110908e-01,  1.44510662e+00, -3.62167941e-01],\n",
              "       [ 4.67492044e-01,  2.38376557e+00,  1.33514108e+00],\n",
              "       [ 2.35241675e+00,  1.00139963e-01,  4.72254334e-01],\n",
              "       [-7.18223250e-01,  1.46811394e+00,  6.11344419e-01],\n",
              "       [-6.98296042e-01,  2.02223417e+00, -2.54062359e-01],\n",
              "       [ 7.64574393e-01,  2.23750414e+00,  7.72269731e-01],\n",
              "       [ 5.28249229e-01,  2.37569723e+00,  2.30704770e+00],\n",
              "       [ 1.03785507e+00,  1.80786799e+00,  9.58261132e-01],\n",
              "       [ 5.21424250e-01,  2.66038386e+00,  8.48509316e-01],\n",
              "       [ 1.25335859e+00,  2.12475639e+00, -4.88018728e-02],\n",
              "       [ 1.46070926e+00,  1.85969940e+00,  7.79936252e-01],\n",
              "       [ 1.79124629e+00,  1.56916323e+00, -9.08620809e-02],\n",
              "       [-6.53304282e-01,  2.30839297e+00,  1.15558436e-01],\n",
              "       [-8.36145100e-01,  2.21754888e+00,  1.43652590e-01],\n",
              "       [-2.26060732e+00, -1.84286370e-01,  7.91707831e-01],\n",
              "       [ 5.55472828e-01,  3.70127327e-01,  1.30923904e+00],\n",
              "       [-9.14996505e-01,  2.55963934e+00, -1.08537095e+00],\n",
              "       [-2.02098347e+00,  1.42022041e+00, -2.28051484e-01],\n",
              "       [-1.26542677e+00,  2.15848251e+00,  7.50129033e-01],\n",
              "       [-7.01432286e-01,  2.37221592e+00, -1.56724534e+00],\n",
              "       [ 5.30869785e-01,  2.29535505e+00, -1.49917094e+00],\n",
              "       [ 1.76156718e-01,  1.16479003e+00,  1.00376103e+00],\n",
              "       [ 6.42741969e-01,  2.68228953e+00, -7.65006369e-01],\n",
              "       [-3.37706143e-01,  2.09639668e+00, -4.71487650e-01],\n",
              "       [ 1.63721155e+00,  1.72636425e+00,  9.45499540e-01],\n",
              "       [ 3.58772642e-01,  2.17081862e+00, -4.81516548e-01],\n",
              "       [ 1.51311874e+00,  1.36335628e+00,  2.86009689e-01],\n",
              "       [-3.00962570e-02,  2.30450774e+00, -4.62917472e-01],\n",
              "       [-1.40940236e+00,  1.45311158e+00,  1.78122564e+00],\n",
              "       [-1.21824444e+00,  1.40819282e+00,  1.41869305e-01],\n",
              "       [ 2.88314619e-01,  1.93122641e+00,  7.87556331e-02],\n",
              "       [ 1.19609762e+00,  7.70442623e-01,  1.99805177e+00],\n",
              "       [ 4.51618189e-01,  2.27100706e+00,  1.06117891e+00],\n",
              "       [ 4.71838856e-01,  1.94138119e+00,  1.32347951e+00],\n",
              "       [-4.23399090e-01,  3.86899361e+00,  1.34460234e+00],\n",
              "       [ 2.64376527e-01,  2.82191608e+00, -3.02473757e-01],\n",
              "       [ 1.37458466e-01,  1.92845353e+00,  6.90492491e-01],\n",
              "       [ 2.25047663e+00,  1.26932529e+00, -1.90489729e+00],\n",
              "       [ 5.30744984e-01,  2.22441680e+00, -3.56421002e-01],\n",
              "       [-6.41287353e-01,  1.40431272e+00,  1.12630356e+00],\n",
              "       [-1.18436691e+00, -2.60957397e-01,  5.34669930e+00],\n",
              "       [ 1.10694195e+00,  6.69497002e-01,  3.00946264e+00],\n",
              "       [ 4.58647944e-01,  6.19888485e-01,  4.83469394e-01],\n",
              "       [-8.46107223e-01,  1.43910880e+00,  1.48276882e+00],\n",
              "       [ 1.16536718e-01,  2.10990355e+00,  4.34953692e-01],\n",
              "       [ 7.08670000e-03,  1.26551112e+00,  6.88045285e-01],\n",
              "       [ 1.49530863e+00,  1.21567945e+00,  3.36006477e+00],\n",
              "       [ 4.78601694e-01,  1.94027835e+00,  1.29653977e+00],\n",
              "       [ 1.66414462e+00,  1.15919147e+00,  7.81438229e-01],\n",
              "       [ 1.77894554e+00, -1.72314762e-01, -1.17886945e+00],\n",
              "       [ 2.74191892e+00, -3.70857245e-01, -7.23641101e-01],\n",
              "       [ 3.25429697e+00, -2.57563459e-01, -1.67783428e-01],\n",
              "       [ 2.53036635e+00, -3.65988657e-01, -4.52793591e-01],\n",
              "       [ 2.71302437e+00,  4.63874135e-01, -1.10162252e+00],\n",
              "       [ 3.34898858e+00, -3.45562159e-01, -1.09990369e+00],\n",
              "       [ 4.11716696e+00, -1.41973079e-01,  2.20219652e-01],\n",
              "       [ 4.14412844e+00, -6.47213236e-01,  1.71069802e+00],\n",
              "       [ 3.36592550e+00, -3.40410644e-01, -1.02784757e+00],\n",
              "       [ 2.71267678e+00, -2.87464382e-01,  1.24156157e+00],\n",
              "       [ 3.07164523e+00, -2.79805941e-01,  6.08807930e-01],\n",
              "       [ 2.62614546e+00, -3.68232871e-01, -9.71981338e-01],\n",
              "       [ 3.26039672e+00, -4.81090804e-01,  9.45869411e-01],\n",
              "       [ 2.70404699e+00, -4.77459848e-01, -2.53362189e-01],\n",
              "       [ 2.59084775e+00, -1.15749987e+00, -1.24462312e+00],\n",
              "       [ 2.95401110e+00, -5.57851499e-01, -8.56141264e-01],\n",
              "       [ 4.45995006e+00, -6.35479008e-01, -1.45991022e+00],\n",
              "       [ 3.82924957e+00, -1.26232962e+00, -1.11849762e-01],\n",
              "       [ 3.13365001e+00, -1.56464614e+00, -4.72735778e-01],\n",
              "       [ 3.23471410e+00, -2.03532443e+00, -4.95850787e-01],\n",
              "       [ 2.71256472e+00, -2.35387960e+00,  4.38394136e-01],\n",
              "       [ 2.93094044e+00, -2.04198353e+00, -3.11553350e-01],\n",
              "       [ 2.25057425e+00, -1.52795614e+00,  1.36375981e+00],\n",
              "       [ 3.09752033e+00, -2.13348176e+00, -9.64702506e-01],\n",
              "       [ 3.07705567e+00, -4.04790975e-01, -1.19032620e+00],\n",
              "       [ 3.85615824e+00, -1.79208943e+00, -9.50222792e-02],\n",
              "       [ 3.20838842e+00, -1.91882788e+00, -7.82626281e-01],\n",
              "       [ 3.65849417e+00, -1.30258082e+00,  1.60108960e+00],\n",
              "       [ 1.55298183e+00, -3.51909311e+00,  1.16159677e+00],\n",
              "       [ 2.05828389e+00, -2.40754610e+00,  5.49571767e-01],\n",
              "       [ 3.43854934e+00, -7.30543243e-01, -9.14691325e-02],\n",
              "       [ 2.58448815e+00, -1.17132839e+00, -1.01780000e-01],\n",
              "       [ 3.14445722e+00, -5.49035841e-01,  8.03473957e-01],\n",
              "       [ 2.92529398e+00, -6.92656844e-01, -8.85187512e-01],\n",
              "       [ 3.26182677e+00, -1.54859057e+00, -9.83800479e-01],\n",
              "       [ 3.77758717e+00, -8.72311546e-01, -4.67133500e-01],\n",
              "       [ 2.77463925e+00, -2.58870465e+00,  4.28405575e-01],\n",
              "       [ 3.24261618e+00, -1.26784789e+00, -1.21371523e+00],\n",
              "       [ 2.56374375e+00, -2.07490927e+00,  7.64076543e-01],\n",
              "       [ 2.74872948e+00, -2.58508204e+00,  1.41826706e+00],\n",
              "       [ 3.49119620e+00,  2.59460201e-01, -8.47741922e-01],\n",
              "       [ 3.92913440e+00, -8.37386028e-01, -1.34034780e+00],\n",
              "       [ 2.81529547e+00, -2.18933614e+00, -9.18927443e-01],\n",
              "       [ 3.62799620e+00, -2.20661701e+00, -3.43667668e-01],\n",
              "       [ 2.94272922e+00, -1.75226320e+00,  2.07479744e-01],\n",
              "       [ 3.02727243e+00, -2.75604024e+00, -9.40803036e-01],\n",
              "       [ 2.75522166e+00, -2.29378408e+00, -5.50473677e-01],\n",
              "       [ 3.49633565e+00, -2.76060799e+00,  1.01315115e+00]])"
            ]
          },
          "metadata": {
            "tags": []
          },
          "execution_count": 80
        }
      ]
    },
    {
      "cell_type": "code",
      "metadata": {
        "colab": {
          "base_uri": "https://localhost:8080/",
          "height": 282
        },
        "id": "CGw-GfNSLr_y",
        "outputId": "cabc10fb-67f0-45f4-a8cc-bb1b1afcfe30"
      },
      "source": [
        "#plot between PC1, PC2\n",
        "x = pca_values[:,0:1]\n",
        "y = pca_values[:, 1:2]\n",
        "plt.scatter(x,y)"
      ],
      "execution_count": 86,
      "outputs": [
        {
          "output_type": "execute_result",
          "data": {
            "text/plain": [
              "<matplotlib.collections.PathCollection at 0x7f04acc0c1d0>"
            ]
          },
          "metadata": {
            "tags": []
          },
          "execution_count": 86
        },
        {
          "output_type": "display_data",
          "data": {
            "image/png": "[encoded data removed]",
            "text/plain": [
              "<Figure size 432x288 with 1 Axes>"
            ]
          },
          "metadata": {
            "tags": [],
            "needs_background": "light"
          }
        }
      ]
    },
    {
      "cell_type": "code",
      "metadata": {
        "id": "_TEKtAFTP1yJ"
      },
      "source": [
        "finalDF = pd.DataFrame(pca_values[:,0:3], columns=['pc1', 'pc2', 'pc3'])"
      ],
      "execution_count": 84,
      "outputs": []
    },
    {
      "cell_type": "code",
      "metadata": {
        "colab": {
          "base_uri": "https://localhost:8080/",
          "height": 419
        },
        "id": "31vYBP8pQpra",
        "outputId": "88603dcd-41f8-4c93-d941-dd2fddd8df21"
      },
      "source": [
        "finalDF"
      ],
      "execution_count": 85,
      "outputs": [
        {
          "output_type": "execute_result",
          "data": {
            "text/html": [
              "<div>\n",
              "<style scoped>\n",
              "    .dataframe tbody tr th:only-of-type {\n",
              "        vertical-align: middle;\n",
              "    }\n",
              "\n",
              "    .dataframe tbody tr th {\n",
              "        vertical-align: top;\n",
              "    }\n",
              "\n",
              "    .dataframe thead th {\n",
              "        text-align: right;\n",
              "    }\n",
              "</style>\n",
              "<table border=\"1\" class=\"dataframe\">\n",
              "  <thead>\n",
              "    <tr style=\"text-align: right;\">\n",
              "      <th></th>\n",
              "      <th>pc1</th>\n",
              "      <th>pc2</th>\n",
              "      <th>pc3</th>\n",
              "    </tr>\n",
              "  </thead>\n",
              "  <tbody>\n",
              "    <tr>\n",
              "      <th>0</th>\n",
              "      <td>-3.522934</td>\n",
              "      <td>-1.453098</td>\n",
              "      <td>-0.164795</td>\n",
              "    </tr>\n",
              "    <tr>\n",
              "      <th>1</th>\n",
              "      <td>-2.528858</td>\n",
              "      <td>0.330019</td>\n",
              "      <td>-2.026707</td>\n",
              "    </tr>\n",
              "    <tr>\n",
              "      <th>2</th>\n",
              "      <td>-2.785029</td>\n",
              "      <td>-1.036936</td>\n",
              "      <td>0.983238</td>\n",
              "    </tr>\n",
              "    <tr>\n",
              "      <th>3</th>\n",
              "      <td>-3.922588</td>\n",
              "      <td>-2.768210</td>\n",
              "      <td>-0.174968</td>\n",
              "    </tr>\n",
              "    <tr>\n",
              "      <th>4</th>\n",
              "      <td>-1.407511</td>\n",
              "      <td>-0.867773</td>\n",
              "      <td>2.025829</td>\n",
              "    </tr>\n",
              "    <tr>\n",
              "      <th>...</th>\n",
              "      <td>...</td>\n",
              "      <td>...</td>\n",
              "      <td>...</td>\n",
              "    </tr>\n",
              "    <tr>\n",
              "      <th>173</th>\n",
              "      <td>3.627996</td>\n",
              "      <td>-2.206617</td>\n",
              "      <td>-0.343668</td>\n",
              "    </tr>\n",
              "    <tr>\n",
              "      <th>174</th>\n",
              "      <td>2.942729</td>\n",
              "      <td>-1.752263</td>\n",
              "      <td>0.207480</td>\n",
              "    </tr>\n",
              "    <tr>\n",
              "      <th>175</th>\n",
              "      <td>3.027272</td>\n",
              "      <td>-2.756040</td>\n",
              "      <td>-0.940803</td>\n",
              "    </tr>\n",
              "    <tr>\n",
              "      <th>176</th>\n",
              "      <td>2.755222</td>\n",
              "      <td>-2.293784</td>\n",
              "      <td>-0.550474</td>\n",
              "    </tr>\n",
              "    <tr>\n",
              "      <th>177</th>\n",
              "      <td>3.496336</td>\n",
              "      <td>-2.760608</td>\n",
              "      <td>1.013151</td>\n",
              "    </tr>\n",
              "  </tbody>\n",
              "</table>\n",
              "<p>178 rows × 3 columns</p>\n",
              "</div>"
            ],
            "text/plain": [
              "          pc1       pc2       pc3\n",
              "0   -3.522934 -1.453098 -0.164795\n",
              "1   -2.528858  0.330019 -2.026707\n",
              "2   -2.785029 -1.036936  0.983238\n",
              "3   -3.922588 -2.768210 -0.174968\n",
              "4   -1.407511 -0.867773  2.025829\n",
              "..        ...       ...       ...\n",
              "173  3.627996 -2.206617 -0.343668\n",
              "174  2.942729 -1.752263  0.207480\n",
              "175  3.027272 -2.756040 -0.940803\n",
              "176  2.755222 -2.293784 -0.550474\n",
              "177  3.496336 -2.760608  1.013151\n",
              "\n",
              "[178 rows x 3 columns]"
            ]
          },
          "metadata": {
            "tags": []
          },
          "execution_count": 85
        }
      ]
    },
    {
      "cell_type": "code",
      "metadata": {
        "id": "_HWZrxzaRvj0"
      },
      "source": [
        ""
      ],
      "execution_count": null,
      "outputs": []
    },
    {
      "cell_type": "markdown",
      "metadata": {
        "id": "6th61KKZR49R"
      },
      "source": [
        "#K-means Clustering"
      ]
    },
    {
      "cell_type": "code",
      "metadata": {
        "id": "JGtnrqcPR7z-"
      },
      "source": [
        "from sklearn.cluster import KMeans\n",
        "from sklearn.preprocessing import StandardScaler"
      ],
      "execution_count": 89,
      "outputs": []
    },
    {
      "cell_type": "code",
      "metadata": {
        "colab": {
          "base_uri": "https://localhost:8080/",
          "height": 419
        },
        "id": "t8n-VmARSF_q",
        "outputId": "218c342d-797c-4557-e5c4-7a77761436b0"
      },
      "source": [
        "finalDF"
      ],
      "execution_count": 88,
      "outputs": [
        {
          "output_type": "execute_result",
          "data": {
            "text/html": [
              "<div>\n",
              "<style scoped>\n",
              "    .dataframe tbody tr th:only-of-type {\n",
              "        vertical-align: middle;\n",
              "    }\n",
              "\n",
              "    .dataframe tbody tr th {\n",
              "        vertical-align: top;\n",
              "    }\n",
              "\n",
              "    .dataframe thead th {\n",
              "        text-align: right;\n",
              "    }\n",
              "</style>\n",
              "<table border=\"1\" class=\"dataframe\">\n",
              "  <thead>\n",
              "    <tr style=\"text-align: right;\">\n",
              "      <th></th>\n",
              "      <th>pc1</th>\n",
              "      <th>pc2</th>\n",
              "      <th>pc3</th>\n",
              "    </tr>\n",
              "  </thead>\n",
              "  <tbody>\n",
              "    <tr>\n",
              "      <th>0</th>\n",
              "      <td>-3.522934</td>\n",
              "      <td>-1.453098</td>\n",
              "      <td>-0.164795</td>\n",
              "    </tr>\n",
              "    <tr>\n",
              "      <th>1</th>\n",
              "      <td>-2.528858</td>\n",
              "      <td>0.330019</td>\n",
              "      <td>-2.026707</td>\n",
              "    </tr>\n",
              "    <tr>\n",
              "      <th>2</th>\n",
              "      <td>-2.785029</td>\n",
              "      <td>-1.036936</td>\n",
              "      <td>0.983238</td>\n",
              "    </tr>\n",
              "    <tr>\n",
              "      <th>3</th>\n",
              "      <td>-3.922588</td>\n",
              "      <td>-2.768210</td>\n",
              "      <td>-0.174968</td>\n",
              "    </tr>\n",
              "    <tr>\n",
              "      <th>4</th>\n",
              "      <td>-1.407511</td>\n",
              "      <td>-0.867773</td>\n",
              "      <td>2.025829</td>\n",
              "    </tr>\n",
              "    <tr>\n",
              "      <th>...</th>\n",
              "      <td>...</td>\n",
              "      <td>...</td>\n",
              "      <td>...</td>\n",
              "    </tr>\n",
              "    <tr>\n",
              "      <th>173</th>\n",
              "      <td>3.627996</td>\n",
              "      <td>-2.206617</td>\n",
              "      <td>-0.343668</td>\n",
              "    </tr>\n",
              "    <tr>\n",
              "      <th>174</th>\n",
              "      <td>2.942729</td>\n",
              "      <td>-1.752263</td>\n",
              "      <td>0.207480</td>\n",
              "    </tr>\n",
              "    <tr>\n",
              "      <th>175</th>\n",
              "      <td>3.027272</td>\n",
              "      <td>-2.756040</td>\n",
              "      <td>-0.940803</td>\n",
              "    </tr>\n",
              "    <tr>\n",
              "      <th>176</th>\n",
              "      <td>2.755222</td>\n",
              "      <td>-2.293784</td>\n",
              "      <td>-0.550474</td>\n",
              "    </tr>\n",
              "    <tr>\n",
              "      <th>177</th>\n",
              "      <td>3.496336</td>\n",
              "      <td>-2.760608</td>\n",
              "      <td>1.013151</td>\n",
              "    </tr>\n",
              "  </tbody>\n",
              "</table>\n",
              "<p>178 rows × 3 columns</p>\n",
              "</div>"
            ],
            "text/plain": [
              "          pc1       pc2       pc3\n",
              "0   -3.522934 -1.453098 -0.164795\n",
              "1   -2.528858  0.330019 -2.026707\n",
              "2   -2.785029 -1.036936  0.983238\n",
              "3   -3.922588 -2.768210 -0.174968\n",
              "4   -1.407511 -0.867773  2.025829\n",
              "..        ...       ...       ...\n",
              "173  3.627996 -2.206617 -0.343668\n",
              "174  2.942729 -1.752263  0.207480\n",
              "175  3.027272 -2.756040 -0.940803\n",
              "176  2.755222 -2.293784 -0.550474\n",
              "177  3.496336 -2.760608  1.013151\n",
              "\n",
              "[178 rows x 3 columns]"
            ]
          },
          "metadata": {
            "tags": []
          },
          "execution_count": 88
        }
      ]
    },
    {
      "cell_type": "code",
      "metadata": {
        "colab": {
          "base_uri": "https://localhost:8080/"
        },
        "id": "slpdjKuGSI6W",
        "outputId": "63dd6b08-5711-464c-a80d-e6590c7d1fc0"
      },
      "source": [
        "scaler = StandardScaler()\n",
        "scaled_df = scaler.fit_transform(finalDF)\n",
        "scaled_df"
      ],
      "execution_count": 91,
      "outputs": [
        {
          "output_type": "execute_result",
          "data": {
            "text/plain": [
              "array([[-1.49729886e+00, -9.19558016e-01, -1.37040844e-01],\n",
              "       [-1.07480196e+00,  2.08844659e-01, -1.68537133e+00],\n",
              "       [-1.18367838e+00, -6.56199705e-01,  8.17642074e-01],\n",
              "       [-1.66715791e+00, -1.75179456e+00, -1.45500255e-01],\n",
              "       [-5.98212977e-01, -5.49149099e-01,  1.68464189e+00],\n",
              "       [-1.39750366e+00, -1.34802954e+00, -5.23058258e-01],\n",
              "       [-1.16903601e+00, -7.46209054e-01, -8.12735551e-01],\n",
              "       [-1.01700355e+00, -1.01966084e+00,  1.21185894e-01],\n",
              "       [-1.18802516e+00, -5.84211711e-01, -1.47266849e+00],\n",
              "       [-1.27742290e+00, -5.03909075e-01, -8.18061130e-01],\n",
              "       [-1.56349688e+00, -8.30598533e-01, -3.50806033e-01],\n",
              "       [-8.96625883e-01, -3.87910746e-01, -9.90887275e-01],\n",
              "       [-1.03637991e+00, -4.29386979e-01, -7.19744997e-01],\n",
              "       [-1.56128934e+00, -7.21498078e-01, -1.00103153e+00],\n",
              "       [-1.88773519e+00, -1.33546418e+00, -1.04983014e+00],\n",
              "       [-1.10883111e+00, -1.05455212e+00,  1.80979331e-01],\n",
              "       [-1.05209360e+00, -1.47505131e+00,  6.91544720e-01],\n",
              "       [-9.46181611e-01, -1.03377781e+00,  6.60739520e-01],\n",
              "       [-1.59051963e+00, -1.60003980e+00, -4.03177510e-01],\n",
              "       [-1.01766019e+00, -6.73661583e-01, -1.36971218e-01],\n",
              "       [-1.41809100e+00, -5.03737342e-01, -3.02572783e-01],\n",
              "       [-6.29618540e-01, -1.51932255e-01,  7.78552156e-01],\n",
              "       [-1.20197089e+00,  5.49656901e-02, -2.59425688e-01],\n",
              "       [-8.53308074e-01,  3.26295357e-01,  1.19127323e-01],\n",
              "       [-8.98751496e-01,  1.99922651e-01,  7.39877365e-01],\n",
              "       [-5.93974047e-01, -5.93726731e-01,  3.17650950e+00],\n",
              "       [-9.06763871e-01, -4.34815823e-01, -7.27284885e-02],\n",
              "       [-6.92648157e-01,  5.77035965e-02, -1.15408287e+00],\n",
              "       [-1.06577017e+00, -4.38389888e-01,  1.15936695e+00],\n",
              "       [-1.08781809e+00, -1.23700272e-01, -9.08651703e-01],\n",
              "       [-1.17832980e+00, -7.88724060e-01,  1.15278412e+00],\n",
              "       [-1.24747512e+00, -9.35492816e-01, -2.75962475e-01],\n",
              "       [-8.46309938e-01, -3.36992426e-02, -1.39551619e-01],\n",
              "       [-9.54459807e-01, -1.03446060e+00,  9.74100812e-01],\n",
              "       [-7.59495517e-01, -4.41383503e-01,  3.98293101e-01],\n",
              "       [-9.46779280e-01, -1.13458633e-01,  3.74813513e-01],\n",
              "       [-7.51438170e-01, -4.16318494e-01,  3.80464751e-01],\n",
              "       [-6.47373102e-01, -7.10188964e-02, -3.33561346e-02],\n",
              "       [-7.95782709e-01,  4.86836445e-01, -1.18651619e+00],\n",
              "       [-1.18881484e+00, -1.14466072e+00, -2.84947208e-01],\n",
              "       [-1.20743956e+00, -4.97503232e-01, -9.79451991e-02],\n",
              "       [-4.69884445e-01, -1.04976241e-01, -6.52432886e-01],\n",
              "       [-1.40547906e+00, -7.36580917e-01, -2.59619637e-01],\n",
              "       [-3.84552671e-01, -2.06347011e-01, -1.68465267e-01],\n",
              "       [-1.01869051e+00,  4.23398003e-02, -5.45091077e-01],\n",
              "       [-6.53592923e-01, -1.12331473e+00,  2.30086807e-02],\n",
              "       [-1.27131109e+00, -7.57886309e-01, -4.48609699e-01],\n",
              "       [-1.30025454e+00, -4.13755329e-01, -9.60275103e-01],\n",
              "       [-9.85512060e-01, -7.91181884e-01, -4.76479564e-02],\n",
              "       [-1.25781936e+00, -1.11288956e+00, -5.34420391e-01],\n",
              "       [-1.45022737e+00, -1.11956866e-01, -1.64011284e+00],\n",
              "       [-1.32450672e+00, -4.75953725e-01,  4.15635762e-03],\n",
              "       [-1.57264429e+00, -1.02713422e+00, -4.32312875e-01],\n",
              "       [-1.07849543e+00, -1.18878073e+00,  2.82057540e-01],\n",
              "       [-1.03907148e+00, -6.45934768e-01, -7.96298074e-01],\n",
              "       [-1.15723631e+00, -8.44976504e-01,  4.27589827e-01],\n",
              "       [-1.26880365e+00, -9.13570945e-01, -5.08756006e-01],\n",
              "       [-1.05749912e+00, -7.69194877e-01,  2.17452962e-01],\n",
              "       [-1.42434624e+00, -1.10149818e+00, -2.36780406e-01],\n",
              "       [ 3.71856043e-01,  1.94766269e+00, -3.81333756e+00],\n",
              "       [ 6.01251682e-01,  8.79598722e-01, -7.28856736e-01],\n",
              "       [ 7.28423913e-01,  5.30849671e-01, -1.33641081e+00],\n",
              "       [-5.22634710e-03,  7.99066393e-01, -1.48404430e+00],\n",
              "       [-7.79095049e-01,  1.21083986e+00, -4.41468348e-03],\n",
              "       [ 2.44186250e-01,  1.20942542e+00,  5.64376770e-01],\n",
              "       [-3.36386912e-01,  4.80140996e-01,  4.77490437e-01],\n",
              "       [-8.58543163e-01,  1.18473285e+00, -1.68786097e+00],\n",
              "       [-6.08965291e-02,  1.53508128e+00, -8.89388401e-01],\n",
              "       [ 3.19401839e-01,  1.42518050e-01, -5.88887387e-01],\n",
              "       [-7.39664097e-01,  8.80265684e-01, -1.02750277e+00],\n",
              "       [ 6.27449442e-01,  5.64637823e-01, -5.23848590e-01],\n",
              "       [-6.34112558e-01,  5.99872605e-01,  1.62477426e+00],\n",
              "       [ 2.94946148e-01,  6.75138511e-01,  6.64136061e-02],\n",
              "       [-9.77303198e-01, -1.73621110e-01,  2.80809800e+00],\n",
              "       [-6.94529931e-01,  8.08365078e-01,  3.82683836e-01],\n",
              "       [ 3.52336935e-01,  1.54897109e+00, -1.30034714e+00],\n",
              "       [-1.27687926e-01,  1.36124891e+00, -2.03632590e+00],\n",
              "       [ 5.78520804e-01,  8.79846829e-01, -1.89852250e-01],\n",
              "       [-4.65836783e-01,  4.82619966e-01, -9.83239066e-01],\n",
              "       [-1.35673096e-01,  6.48501049e-01,  1.49253948e+00],\n",
              "       [-2.85294366e-01,  2.13295477e+00, -2.96627100e-01],\n",
              "       [-3.92760762e-01,  9.14500584e-01, -3.01172082e-01],\n",
              "       [ 1.98691012e-01,  1.50850808e+00,  1.11027833e+00],\n",
              "       [ 9.99811805e-01,  6.33711409e-02,  3.92717867e-01],\n",
              "       [-3.05255471e-01,  9.29060213e-01,  5.08382578e-01],\n",
              "       [-2.96786114e-01,  1.27972172e+00, -2.11273504e-01],\n",
              "       [ 3.24955391e-01,  1.41595009e+00,  6.42205057e-01],\n",
              "       [ 2.24513711e-01,  1.50340223e+00,  1.91849769e+00],\n",
              "       [ 4.41103710e-01,  1.14406530e+00,  7.96872025e-01],\n",
              "       [ 2.21612995e-01,  1.68355924e+00,  7.05604469e-01],\n",
              "       [ 5.32695883e-01,  1.34460042e+00, -4.05827242e-02],\n",
              "       [ 6.20822974e-01,  1.17686555e+00,  6.48580392e-01],\n",
              "       [ 7.61306087e-01,  9.93006798e-01, -7.55592061e-02],\n",
              "       [-2.77663953e-01,  1.46081036e+00,  9.60962327e-02],\n",
              "       [-3.55373997e-01,  1.40332189e+00,  1.19458806e-01],\n",
              "       [-9.60791446e-01, -1.16621148e-01,  6.58369417e-01],\n",
              "       [ 2.36084143e-01,  2.34226079e-01,  1.08873869e+00],\n",
              "       [-3.88887006e-01,  1.61980552e+00, -9.02574169e-01],\n",
              "       [-8.58947775e-01,  8.98751956e-01, -1.89643346e-01],\n",
              "       [-5.37825034e-01,  1.36594317e+00,  6.23793267e-01],\n",
              "       [-2.98119064e-01,  1.50119916e+00, -1.30329189e+00],\n",
              "       [ 2.25627487e-01,  1.45255963e+00, -1.24668250e+00],\n",
              "       [ 7.48692027e-02,  7.37109048e-01,  8.34708890e-01],\n",
              "       [ 2.73174814e-01,  1.69742171e+00, -6.36164981e-01],\n",
              "       [-1.43530090e-01,  1.32665366e+00, -3.92080307e-01],\n",
              "       [ 6.95839048e-01,  1.09248764e+00,  7.86259724e-01],\n",
              "       [ 1.52483663e-01,  1.37374978e+00, -4.00420151e-01],\n",
              "       [ 6.43097777e-01,  8.62766870e-01,  2.37840305e-01],\n",
              "       [-1.27913530e-02,  1.45835169e+00, -3.84953507e-01],\n",
              "       [-5.99016786e-01,  9.19566333e-01,  1.48123391e+00],\n",
              "       [-5.17771848e-01,  8.91140589e-01,  1.17975859e-01],\n",
              "       [ 1.22537964e-01,  1.22212968e+00,  6.54917107e-02],\n",
              "       [ 5.08359125e-01,  4.87555881e-01,  1.66154246e+00],\n",
              "       [ 1.91944389e-01,  1.43715160e+00,  8.82456524e-01],\n",
              "       [ 2.00538471e-01,  1.22855588e+00,  1.10058079e+00],\n",
              "       [-1.79950856e-01,  2.44839853e+00,  1.11814614e+00],\n",
              "       [ 1.12363922e-01,  1.78578098e+00, -2.51531516e-01],\n",
              "       [ 5.84218751e-02,  1.22037493e+00,  5.74200634e-01],\n",
              "       [ 9.56485753e-01,  8.03261649e-01, -1.58407694e+00],\n",
              "       [ 2.25574444e-01,  1.40766809e+00, -2.96393035e-01],\n",
              "       [-2.72556581e-01,  8.88685158e-01,  9.36612967e-01],\n",
              "       [-5.03373399e-01, -1.65140544e-01,  4.44621509e+00],\n",
              "       [ 4.70466649e-01,  4.23674899e-01,  2.50261281e+00],\n",
              "       [ 1.94932139e-01,  3.92281355e-01,  4.02044101e-01],\n",
              "       [-3.59608046e-01,  9.10705012e-01,  1.23304280e+00],\n",
              "       [ 4.95298234e-02,  1.33520116e+00,  3.61699351e-01],\n",
              "       [ 3.01195200e-03,  8.00847940e-01,  5.72165584e-01],\n",
              "       [ 6.35528216e-01,  7.69313181e-01,  2.79416698e+00],\n",
              "       [ 2.03412777e-01,  1.22785798e+00,  1.07817821e+00],\n",
              "       [ 7.07286001e-01,  7.33566136e-01,  6.49829408e-01],\n",
              "       [ 7.56078087e-01, -1.09045207e-01, -9.80325776e-01],\n",
              "       [ 1.16535597e+00, -2.34687990e-01, -6.01766398e-01],\n",
              "       [ 1.38312420e+00, -1.62992772e-01, -1.39525559e-01],\n",
              "       [ 1.07544301e+00, -2.31607023e-01, -3.76534677e-01],\n",
              "       [ 1.15307536e+00,  2.93551468e-01, -9.16088674e-01],\n",
              "       [ 1.42336953e+00, -2.18680610e-01, -9.14659323e-01],\n",
              "       [ 1.74985667e+00, -8.98442111e-02,  1.83130542e-01],\n",
              "       [ 1.76131569e+00, -4.09573160e-01,  1.42258446e+00],\n",
              "       [ 1.43056797e+00, -2.15420599e-01, -8.54738802e-01],\n",
              "       [ 1.15292763e+00, -1.81914845e-01,  1.03245937e+00],\n",
              "       [ 1.30549451e+00, -1.77068387e-01,  5.06273282e-01],\n",
              "       [ 1.11615054e+00, -2.33027219e-01, -8.08281491e-01],\n",
              "       [ 1.38571668e+00, -3.04446618e-01,  7.86567302e-01],\n",
              "       [ 1.14925984e+00, -3.02148855e-01, -2.10691255e-01],\n",
              "       [ 1.10114849e+00, -7.32495646e-01, -1.03500529e+00],\n",
              "       [ 1.25549827e+00, -3.53022757e-01, -7.11951054e-01],\n",
              "       [ 1.89554454e+00, -4.02147439e-01, -1.21403402e+00],\n",
              "       [ 1.62748753e+00, -7.98834606e-01, -9.30121691e-02],\n",
              "       [ 1.33184746e+00, -9.90148265e-01, -3.93118226e-01],\n",
              "       [ 1.37480119e+00, -1.28800558e+00, -4.12340235e-01],\n",
              "       [ 1.15288000e+00, -1.48959547e+00,  3.64560359e-01],\n",
              "       [ 1.24569291e+00, -1.29221963e+00, -2.59081935e-01],\n",
              "       [ 9.56527240e-01, -9.66929894e-01,  1.13407713e+00],\n",
              "       [ 1.31649181e+00, -1.35012206e+00, -8.02228551e-01],\n",
              "       [ 1.30779403e+00, -2.56162126e-01, -9.89852995e-01],\n",
              "       [ 1.63892411e+00, -1.13408022e+00, -7.90187492e-02],\n",
              "       [ 1.36361239e+00, -1.21428357e+00, -6.50817370e-01],\n",
              "       [ 1.55491397e+00, -8.24306598e-01,  1.33143615e+00],\n",
              "       [ 6.60040175e-01, -2.22697251e+00,  9.65962138e-01],\n",
              "       [ 8.74801004e-01, -1.52355701e+00,  4.57013597e-01],\n",
              "       [ 1.46143417e+00, -4.62306529e-01, -7.60640189e-02],\n",
              "       [ 1.09844557e+00, -7.41246689e-01, -8.46383432e-02],\n",
              "       [ 1.33644068e+00, -3.47443982e-01,  6.68153907e-01],\n",
              "       [ 1.24329308e+00, -4.38331042e-01, -7.36105370e-01],\n",
              "       [ 1.38632448e+00, -9.79987888e-01, -8.18110068e-01],\n",
              "       [ 1.60553025e+00, -5.52021152e-01, -3.88459477e-01],\n",
              "       [ 1.17926259e+00, -1.63819879e+00,  3.56254059e-01],\n",
              "       [ 1.37815969e+00, -8.02326713e-01, -1.00930287e+00],\n",
              "       [ 1.08962890e+00, -1.31305588e+00,  6.35391755e-01],\n",
              "       [ 1.16825056e+00, -1.63590632e+00,  1.17940435e+00],\n",
              "       [ 1.48380986e+00,  1.64193079e-01, -7.04966318e-01],\n",
              "       [ 1.66994006e+00, -5.29919387e-01, -1.11460815e+00],\n",
              "       [ 1.19654208e+00, -1.38546814e+00, -7.64162866e-01],\n",
              "       [ 1.54195188e+00, -1.39640392e+00, -2.85787602e-01],\n",
              "       [ 1.25070331e+00, -1.10887716e+00,  1.72536273e-01],\n",
              "       [ 1.28663542e+00, -1.74409305e+00, -7.82354199e-01],\n",
              "       [ 1.17100983e+00, -1.45156548e+00, -4.57763608e-01],\n",
              "       [ 1.48599421e+00, -1.74698364e+00,  8.42517535e-01]])"
            ]
          },
          "metadata": {
            "tags": []
          },
          "execution_count": 91
        }
      ]
    },
    {
      "cell_type": "code",
      "metadata": {
        "colab": {
          "base_uri": "https://localhost:8080/",
          "height": 295
        },
        "id": "cKHShNZESbh2",
        "outputId": "79f62838-4fa3-484a-9a97-ab064c144f44"
      },
      "source": [
        "wcss = []\n",
        "for i in range(1,11):\n",
        "    kmeans = KMeans(n_clusters=i, random_state=0)\n",
        "    kmeans.fit(scaled_df)\n",
        "    wcss.append(kmeans.inertia_)\n",
        "\n",
        "plt.plot(range(1,11), wcss)\n",
        "plt.title('Elbow Method') \n",
        "plt.xlabel('Number of clusters')\n",
        "plt.ylabel('WCSS') \n",
        "plt.show()  "
      ],
      "execution_count": 93,
      "outputs": [
        {
          "output_type": "display_data",
          "data": {
            "image/png": "[encoded data removed]",
            "text/plain": [
              "<Figure size 432x288 with 1 Axes>"
            ]
          },
          "metadata": {
            "tags": [],
            "needs_background": "light"
          }
        }
      ]
    },
    {
      "cell_type": "markdown",
      "metadata": {
        "id": "iDHk4qb9TSkA"
      },
      "source": [
        "K=4 is a good value to be considered"
      ]
    },
    {
      "cell_type": "code",
      "metadata": {
        "colab": {
          "base_uri": "https://localhost:8080/"
        },
        "id": "LFWQ-qyOTJZ6",
        "outputId": "06cc820a-8512-4fb2-a1dc-0898cc897860"
      },
      "source": [
        "#Build cluster algorithm\n",
        "cluster_new = KMeans(4, random_state=42)\n",
        "cluster_new.fit(scaled_df)"
      ],
      "execution_count": 94,
      "outputs": [
        {
          "output_type": "execute_result",
          "data": {
            "text/plain": [
              "KMeans(algorithm='auto', copy_x=True, init='k-means++', max_iter=300,\n",
              "       n_clusters=4, n_init=10, n_jobs=None, precompute_distances='auto',\n",
              "       random_state=42, tol=0.0001, verbose=0)"
            ]
          },
          "metadata": {
            "tags": []
          },
          "execution_count": 94
        }
      ]
    },
    {
      "cell_type": "code",
      "metadata": {
        "colab": {
          "base_uri": "https://localhost:8080/"
        },
        "id": "ImKNlI42Tiun",
        "outputId": "4360da81-4f81-40a6-b21a-49edafa5a095"
      },
      "source": [
        "cluster_new.labels_"
      ],
      "execution_count": 95,
      "outputs": [
        {
          "output_type": "execute_result",
          "data": {
            "text/plain": [
              "array([1, 1, 1, 1, 3, 1, 1, 1, 1, 1, 1, 1, 1, 1, 1, 1, 1, 1, 1, 1, 1, 1,\n",
              "       1, 1, 3, 3, 1, 1, 1, 1, 1, 1, 1, 1, 1, 1, 1, 1, 2, 1, 1, 1, 1, 1,\n",
              "       1, 1, 1, 1, 1, 1, 1, 1, 1, 1, 1, 1, 1, 1, 1, 2, 2, 2, 2, 2, 3, 3,\n",
              "       2, 2, 2, 2, 2, 3, 2, 3, 3, 2, 2, 2, 2, 3, 2, 2, 3, 0, 3, 2, 3, 3,\n",
              "       3, 3, 2, 3, 2, 2, 2, 1, 3, 2, 2, 3, 2, 2, 3, 2, 2, 3, 2, 2, 2, 3,\n",
              "       2, 2, 3, 3, 3, 3, 2, 3, 2, 2, 3, 3, 3, 3, 3, 3, 3, 3, 3, 3, 0, 0,\n",
              "       0, 0, 0, 0, 0, 0, 0, 0, 0, 0, 0, 0, 0, 0, 0, 0, 0, 0, 0, 0, 0, 0,\n",
              "       0, 0, 0, 0, 0, 0, 0, 0, 0, 0, 0, 0, 0, 0, 0, 0, 0, 0, 0, 0, 0, 0,\n",
              "       0, 0], dtype=int32)"
            ]
          },
          "metadata": {
            "tags": []
          },
          "execution_count": 95
        }
      ]
    },
    {
      "cell_type": "code",
      "metadata": {
        "id": "CAeeplTTTmJn"
      },
      "source": [
        "#Assign Clusters to the data set\n",
        "data['Clusterid_Kmeans'] = cluster_new.labels_"
      ],
      "execution_count": 96,
      "outputs": []
    },
    {
      "cell_type": "code",
      "metadata": {
        "colab": {
          "base_uri": "https://localhost:8080/",
          "height": 439
        },
        "id": "CPl10yZxU4ze",
        "outputId": "8f9c3142-7ad0-488e-d8a2-b3ee426608a3"
      },
      "source": [
        "data"
      ],
      "execution_count": 97,
      "outputs": [
        {
          "output_type": "execute_result",
          "data": {
            "text/html": [
              "<div>\n",
              "<style scoped>\n",
              "    .dataframe tbody tr th:only-of-type {\n",
              "        vertical-align: middle;\n",
              "    }\n",
              "\n",
              "    .dataframe tbody tr th {\n",
              "        vertical-align: top;\n",
              "    }\n",
              "\n",
              "    .dataframe thead th {\n",
              "        text-align: right;\n",
              "    }\n",
              "</style>\n",
              "<table border=\"1\" class=\"dataframe\">\n",
              "  <thead>\n",
              "    <tr style=\"text-align: right;\">\n",
              "      <th></th>\n",
              "      <th>Type</th>\n",
              "      <th>Alcohol</th>\n",
              "      <th>Malic</th>\n",
              "      <th>Ash</th>\n",
              "      <th>Alcalinity</th>\n",
              "      <th>Magnesium</th>\n",
              "      <th>Phenols</th>\n",
              "      <th>Flavanoids</th>\n",
              "      <th>Nonflavanoids</th>\n",
              "      <th>Proanthocyanins</th>\n",
              "      <th>Color</th>\n",
              "      <th>Hue</th>\n",
              "      <th>Dilution</th>\n",
              "      <th>Proline</th>\n",
              "      <th>Clusterid_Kmeans</th>\n",
              "    </tr>\n",
              "  </thead>\n",
              "  <tbody>\n",
              "    <tr>\n",
              "      <th>0</th>\n",
              "      <td>1</td>\n",
              "      <td>14.23</td>\n",
              "      <td>1.71</td>\n",
              "      <td>2.43</td>\n",
              "      <td>15.6</td>\n",
              "      <td>127</td>\n",
              "      <td>2.80</td>\n",
              "      <td>3.06</td>\n",
              "      <td>0.28</td>\n",
              "      <td>2.29</td>\n",
              "      <td>5.64</td>\n",
              "      <td>1.04</td>\n",
              "      <td>3.92</td>\n",
              "      <td>1065</td>\n",
              "      <td>1</td>\n",
              "    </tr>\n",
              "    <tr>\n",
              "      <th>1</th>\n",
              "      <td>1</td>\n",
              "      <td>13.20</td>\n",
              "      <td>1.78</td>\n",
              "      <td>2.14</td>\n",
              "      <td>11.2</td>\n",
              "      <td>100</td>\n",
              "      <td>2.65</td>\n",
              "      <td>2.76</td>\n",
              "      <td>0.26</td>\n",
              "      <td>1.28</td>\n",
              "      <td>4.38</td>\n",
              "      <td>1.05</td>\n",
              "      <td>3.40</td>\n",
              "      <td>1050</td>\n",
              "      <td>1</td>\n",
              "    </tr>\n",
              "    <tr>\n",
              "      <th>2</th>\n",
              "      <td>1</td>\n",
              "      <td>13.16</td>\n",
              "      <td>2.36</td>\n",
              "      <td>2.67</td>\n",
              "      <td>18.6</td>\n",
              "      <td>101</td>\n",
              "      <td>2.80</td>\n",
              "      <td>3.24</td>\n",
              "      <td>0.30</td>\n",
              "      <td>2.81</td>\n",
              "      <td>5.68</td>\n",
              "      <td>1.03</td>\n",
              "      <td>3.17</td>\n",
              "      <td>1185</td>\n",
              "      <td>1</td>\n",
              "    </tr>\n",
              "    <tr>\n",
              "      <th>3</th>\n",
              "      <td>1</td>\n",
              "      <td>14.37</td>\n",
              "      <td>1.95</td>\n",
              "      <td>2.50</td>\n",
              "      <td>16.8</td>\n",
              "      <td>113</td>\n",
              "      <td>3.85</td>\n",
              "      <td>3.49</td>\n",
              "      <td>0.24</td>\n",
              "      <td>2.18</td>\n",
              "      <td>7.80</td>\n",
              "      <td>0.86</td>\n",
              "      <td>3.45</td>\n",
              "      <td>1480</td>\n",
              "      <td>1</td>\n",
              "    </tr>\n",
              "    <tr>\n",
              "      <th>4</th>\n",
              "      <td>1</td>\n",
              "      <td>13.24</td>\n",
              "      <td>2.59</td>\n",
              "      <td>2.87</td>\n",
              "      <td>21.0</td>\n",
              "      <td>118</td>\n",
              "      <td>2.80</td>\n",
              "      <td>2.69</td>\n",
              "      <td>0.39</td>\n",
              "      <td>1.82</td>\n",
              "      <td>4.32</td>\n",
              "      <td>1.04</td>\n",
              "      <td>2.93</td>\n",
              "      <td>735</td>\n",
              "      <td>3</td>\n",
              "    </tr>\n",
              "    <tr>\n",
              "      <th>...</th>\n",
              "      <td>...</td>\n",
              "      <td>...</td>\n",
              "      <td>...</td>\n",
              "      <td>...</td>\n",
              "      <td>...</td>\n",
              "      <td>...</td>\n",
              "      <td>...</td>\n",
              "      <td>...</td>\n",
              "      <td>...</td>\n",
              "      <td>...</td>\n",
              "      <td>...</td>\n",
              "      <td>...</td>\n",
              "      <td>...</td>\n",
              "      <td>...</td>\n",
              "      <td>...</td>\n",
              "    </tr>\n",
              "    <tr>\n",
              "      <th>173</th>\n",
              "      <td>3</td>\n",
              "      <td>13.71</td>\n",
              "      <td>5.65</td>\n",
              "      <td>2.45</td>\n",
              "      <td>20.5</td>\n",
              "      <td>95</td>\n",
              "      <td>1.68</td>\n",
              "      <td>0.61</td>\n",
              "      <td>0.52</td>\n",
              "      <td>1.06</td>\n",
              "      <td>7.70</td>\n",
              "      <td>0.64</td>\n",
              "      <td>1.74</td>\n",
              "      <td>740</td>\n",
              "      <td>0</td>\n",
              "    </tr>\n",
              "    <tr>\n",
              "      <th>174</th>\n",
              "      <td>3</td>\n",
              "      <td>13.40</td>\n",
              "      <td>3.91</td>\n",
              "      <td>2.48</td>\n",
              "      <td>23.0</td>\n",
              "      <td>102</td>\n",
              "      <td>1.80</td>\n",
              "      <td>0.75</td>\n",
              "      <td>0.43</td>\n",
              "      <td>1.41</td>\n",
              "      <td>7.30</td>\n",
              "      <td>0.70</td>\n",
              "      <td>1.56</td>\n",
              "      <td>750</td>\n",
              "      <td>0</td>\n",
              "    </tr>\n",
              "    <tr>\n",
              "      <th>175</th>\n",
              "      <td>3</td>\n",
              "      <td>13.27</td>\n",
              "      <td>4.28</td>\n",
              "      <td>2.26</td>\n",
              "      <td>20.0</td>\n",
              "      <td>120</td>\n",
              "      <td>1.59</td>\n",
              "      <td>0.69</td>\n",
              "      <td>0.43</td>\n",
              "      <td>1.35</td>\n",
              "      <td>10.20</td>\n",
              "      <td>0.59</td>\n",
              "      <td>1.56</td>\n",
              "      <td>835</td>\n",
              "      <td>0</td>\n",
              "    </tr>\n",
              "    <tr>\n",
              "      <th>176</th>\n",
              "      <td>3</td>\n",
              "      <td>13.17</td>\n",
              "      <td>2.59</td>\n",
              "      <td>2.37</td>\n",
              "      <td>20.0</td>\n",
              "      <td>120</td>\n",
              "      <td>1.65</td>\n",
              "      <td>0.68</td>\n",
              "      <td>0.53</td>\n",
              "      <td>1.46</td>\n",
              "      <td>9.30</td>\n",
              "      <td>0.60</td>\n",
              "      <td>1.62</td>\n",
              "      <td>840</td>\n",
              "      <td>0</td>\n",
              "    </tr>\n",
              "    <tr>\n",
              "      <th>177</th>\n",
              "      <td>3</td>\n",
              "      <td>14.13</td>\n",
              "      <td>4.10</td>\n",
              "      <td>2.74</td>\n",
              "      <td>24.5</td>\n",
              "      <td>96</td>\n",
              "      <td>2.05</td>\n",
              "      <td>0.76</td>\n",
              "      <td>0.56</td>\n",
              "      <td>1.35</td>\n",
              "      <td>9.20</td>\n",
              "      <td>0.61</td>\n",
              "      <td>1.60</td>\n",
              "      <td>560</td>\n",
              "      <td>0</td>\n",
              "    </tr>\n",
              "  </tbody>\n",
              "</table>\n",
              "<p>178 rows × 15 columns</p>\n",
              "</div>"
            ],
            "text/plain": [
              "     Type  Alcohol  Malic   Ash  ...   Hue  Dilution  Proline  Clusterid_Kmeans\n",
              "0       1    14.23   1.71  2.43  ...  1.04      3.92     1065                 1\n",
              "1       1    13.20   1.78  2.14  ...  1.05      3.40     1050                 1\n",
              "2       1    13.16   2.36  2.67  ...  1.03      3.17     1185                 1\n",
              "3       1    14.37   1.95  2.50  ...  0.86      3.45     1480                 1\n",
              "4       1    13.24   2.59  2.87  ...  1.04      2.93      735                 3\n",
              "..    ...      ...    ...   ...  ...   ...       ...      ...               ...\n",
              "173     3    13.71   5.65  2.45  ...  0.64      1.74      740                 0\n",
              "174     3    13.40   3.91  2.48  ...  0.70      1.56      750                 0\n",
              "175     3    13.27   4.28  2.26  ...  0.59      1.56      835                 0\n",
              "176     3    13.17   2.59  2.37  ...  0.60      1.62      840                 0\n",
              "177     3    14.13   4.10  2.74  ...  0.61      1.60      560                 0\n",
              "\n",
              "[178 rows x 15 columns]"
            ]
          },
          "metadata": {
            "tags": []
          },
          "execution_count": 97
        }
      ]
    },
    {
      "cell_type": "code",
      "metadata": {
        "colab": {
          "base_uri": "https://localhost:8080/",
          "height": 224
        },
        "id": "VJ7C8TRHU5zR",
        "outputId": "eb230078-4cc6-43ea-922a-94693bd7cfa0"
      },
      "source": [
        "data.groupby('Clusterid_Kmeans').agg(['mean']).reset_index()"
      ],
      "execution_count": 98,
      "outputs": [
        {
          "output_type": "execute_result",
          "data": {
            "text/html": [
              "<div>\n",
              "<style scoped>\n",
              "    .dataframe tbody tr th:only-of-type {\n",
              "        vertical-align: middle;\n",
              "    }\n",
              "\n",
              "    .dataframe tbody tr th {\n",
              "        vertical-align: top;\n",
              "    }\n",
              "\n",
              "    .dataframe thead tr th {\n",
              "        text-align: left;\n",
              "    }\n",
              "</style>\n",
              "<table border=\"1\" class=\"dataframe\">\n",
              "  <thead>\n",
              "    <tr>\n",
              "      <th></th>\n",
              "      <th>Clusterid_Kmeans</th>\n",
              "      <th>Type</th>\n",
              "      <th>Alcohol</th>\n",
              "      <th>Malic</th>\n",
              "      <th>Ash</th>\n",
              "      <th>Alcalinity</th>\n",
              "      <th>Magnesium</th>\n",
              "      <th>Phenols</th>\n",
              "      <th>Flavanoids</th>\n",
              "      <th>Nonflavanoids</th>\n",
              "      <th>Proanthocyanins</th>\n",
              "      <th>Color</th>\n",
              "      <th>Hue</th>\n",
              "      <th>Dilution</th>\n",
              "      <th>Proline</th>\n",
              "    </tr>\n",
              "    <tr>\n",
              "      <th></th>\n",
              "      <th></th>\n",
              "      <th>mean</th>\n",
              "      <th>mean</th>\n",
              "      <th>mean</th>\n",
              "      <th>mean</th>\n",
              "      <th>mean</th>\n",
              "      <th>mean</th>\n",
              "      <th>mean</th>\n",
              "      <th>mean</th>\n",
              "      <th>mean</th>\n",
              "      <th>mean</th>\n",
              "      <th>mean</th>\n",
              "      <th>mean</th>\n",
              "      <th>mean</th>\n",
              "      <th>mean</th>\n",
              "    </tr>\n",
              "  </thead>\n",
              "  <tbody>\n",
              "    <tr>\n",
              "      <th>0</th>\n",
              "      <td>0</td>\n",
              "      <td>2.979592</td>\n",
              "      <td>13.151633</td>\n",
              "      <td>3.344490</td>\n",
              "      <td>2.434694</td>\n",
              "      <td>21.438776</td>\n",
              "      <td>99.020408</td>\n",
              "      <td>1.678163</td>\n",
              "      <td>0.797959</td>\n",
              "      <td>0.450816</td>\n",
              "      <td>1.163061</td>\n",
              "      <td>7.343265</td>\n",
              "      <td>0.685918</td>\n",
              "      <td>1.690204</td>\n",
              "      <td>627.551020</td>\n",
              "    </tr>\n",
              "    <tr>\n",
              "      <th>1</th>\n",
              "      <td>1</td>\n",
              "      <td>1.017857</td>\n",
              "      <td>13.759821</td>\n",
              "      <td>2.003571</td>\n",
              "      <td>2.433571</td>\n",
              "      <td>16.833929</td>\n",
              "      <td>107.142857</td>\n",
              "      <td>2.851964</td>\n",
              "      <td>2.993036</td>\n",
              "      <td>0.285893</td>\n",
              "      <td>1.938750</td>\n",
              "      <td>5.600893</td>\n",
              "      <td>1.059821</td>\n",
              "      <td>3.148214</td>\n",
              "      <td>1130.964286</td>\n",
              "    </tr>\n",
              "    <tr>\n",
              "      <th>2</th>\n",
              "      <td>2</td>\n",
              "      <td>1.972973</td>\n",
              "      <td>12.422162</td>\n",
              "      <td>1.676486</td>\n",
              "      <td>2.032162</td>\n",
              "      <td>18.156757</td>\n",
              "      <td>93.432432</td>\n",
              "      <td>2.165676</td>\n",
              "      <td>1.910811</td>\n",
              "      <td>0.336216</td>\n",
              "      <td>1.499189</td>\n",
              "      <td>3.219189</td>\n",
              "      <td>1.065568</td>\n",
              "      <td>2.669459</td>\n",
              "      <td>533.486486</td>\n",
              "    </tr>\n",
              "    <tr>\n",
              "      <th>3</th>\n",
              "      <td>3</td>\n",
              "      <td>1.916667</td>\n",
              "      <td>12.208611</td>\n",
              "      <td>2.160000</td>\n",
              "      <td>2.513056</td>\n",
              "      <td>22.363889</td>\n",
              "      <td>95.694444</td>\n",
              "      <td>2.401667</td>\n",
              "      <td>2.327778</td>\n",
              "      <td>0.385278</td>\n",
              "      <td>1.726389</td>\n",
              "      <td>2.993333</td>\n",
              "      <td>1.056667</td>\n",
              "      <td>2.971944</td>\n",
              "      <td>531.222222</td>\n",
              "    </tr>\n",
              "  </tbody>\n",
              "</table>\n",
              "</div>"
            ],
            "text/plain": [
              "  Clusterid_Kmeans      Type    Alcohol  ...       Hue  Dilution      Proline\n",
              "                        mean       mean  ...      mean      mean         mean\n",
              "0                0  2.979592  13.151633  ...  0.685918  1.690204   627.551020\n",
              "1                1  1.017857  13.759821  ...  1.059821  3.148214  1130.964286\n",
              "2                2  1.972973  12.422162  ...  1.065568  2.669459   533.486486\n",
              "3                3  1.916667  12.208611  ...  1.056667  2.971944   531.222222\n",
              "\n",
              "[4 rows x 15 columns]"
            ]
          },
          "metadata": {
            "tags": []
          },
          "execution_count": 98
        }
      ]
    },
    {
      "cell_type": "code",
      "metadata": {
        "id": "zuw_WBVcVN71"
      },
      "source": [
        ""
      ],
      "execution_count": null,
      "outputs": []
    },
    {
      "cell_type": "markdown",
      "metadata": {
        "id": "pyALFmt1VUEx"
      },
      "source": [
        "#Hierarchical Clustering"
      ]
    },
    {
      "cell_type": "code",
      "metadata": {
        "id": "5c-Aphr6VZGV"
      },
      "source": [
        "import scipy.cluster.hierarchy as sch\n",
        "from sklearn.cluster import AgglomerativeClustering\n",
        "import seaborn as sns"
      ],
      "execution_count": 99,
      "outputs": []
    },
    {
      "cell_type": "code",
      "metadata": {
        "colab": {
          "base_uri": "https://localhost:8080/",
          "height": 419
        },
        "id": "bwKQ9YeqVj_t",
        "outputId": "b65d7c04-aceb-48c6-aff8-8849cb63beb7"
      },
      "source": [
        "finalDF"
      ],
      "execution_count": 100,
      "outputs": [
        {
          "output_type": "execute_result",
          "data": {
            "text/html": [
              "<div>\n",
              "<style scoped>\n",
              "    .dataframe tbody tr th:only-of-type {\n",
              "        vertical-align: middle;\n",
              "    }\n",
              "\n",
              "    .dataframe tbody tr th {\n",
              "        vertical-align: top;\n",
              "    }\n",
              "\n",
              "    .dataframe thead th {\n",
              "        text-align: right;\n",
              "    }\n",
              "</style>\n",
              "<table border=\"1\" class=\"dataframe\">\n",
              "  <thead>\n",
              "    <tr style=\"text-align: right;\">\n",
              "      <th></th>\n",
              "      <th>pc1</th>\n",
              "      <th>pc2</th>\n",
              "      <th>pc3</th>\n",
              "    </tr>\n",
              "  </thead>\n",
              "  <tbody>\n",
              "    <tr>\n",
              "      <th>0</th>\n",
              "      <td>-3.522934</td>\n",
              "      <td>-1.453098</td>\n",
              "      <td>-0.164795</td>\n",
              "    </tr>\n",
              "    <tr>\n",
              "      <th>1</th>\n",
              "      <td>-2.528858</td>\n",
              "      <td>0.330019</td>\n",
              "      <td>-2.026707</td>\n",
              "    </tr>\n",
              "    <tr>\n",
              "      <th>2</th>\n",
              "      <td>-2.785029</td>\n",
              "      <td>-1.036936</td>\n",
              "      <td>0.983238</td>\n",
              "    </tr>\n",
              "    <tr>\n",
              "      <th>3</th>\n",
              "      <td>-3.922588</td>\n",
              "      <td>-2.768210</td>\n",
              "      <td>-0.174968</td>\n",
              "    </tr>\n",
              "    <tr>\n",
              "      <th>4</th>\n",
              "      <td>-1.407511</td>\n",
              "      <td>-0.867773</td>\n",
              "      <td>2.025829</td>\n",
              "    </tr>\n",
              "    <tr>\n",
              "      <th>...</th>\n",
              "      <td>...</td>\n",
              "      <td>...</td>\n",
              "      <td>...</td>\n",
              "    </tr>\n",
              "    <tr>\n",
              "      <th>173</th>\n",
              "      <td>3.627996</td>\n",
              "      <td>-2.206617</td>\n",
              "      <td>-0.343668</td>\n",
              "    </tr>\n",
              "    <tr>\n",
              "      <th>174</th>\n",
              "      <td>2.942729</td>\n",
              "      <td>-1.752263</td>\n",
              "      <td>0.207480</td>\n",
              "    </tr>\n",
              "    <tr>\n",
              "      <th>175</th>\n",
              "      <td>3.027272</td>\n",
              "      <td>-2.756040</td>\n",
              "      <td>-0.940803</td>\n",
              "    </tr>\n",
              "    <tr>\n",
              "      <th>176</th>\n",
              "      <td>2.755222</td>\n",
              "      <td>-2.293784</td>\n",
              "      <td>-0.550474</td>\n",
              "    </tr>\n",
              "    <tr>\n",
              "      <th>177</th>\n",
              "      <td>3.496336</td>\n",
              "      <td>-2.760608</td>\n",
              "      <td>1.013151</td>\n",
              "    </tr>\n",
              "  </tbody>\n",
              "</table>\n",
              "<p>178 rows × 3 columns</p>\n",
              "</div>"
            ],
            "text/plain": [
              "          pc1       pc2       pc3\n",
              "0   -3.522934 -1.453098 -0.164795\n",
              "1   -2.528858  0.330019 -2.026707\n",
              "2   -2.785029 -1.036936  0.983238\n",
              "3   -3.922588 -2.768210 -0.174968\n",
              "4   -1.407511 -0.867773  2.025829\n",
              "..        ...       ...       ...\n",
              "173  3.627996 -2.206617 -0.343668\n",
              "174  2.942729 -1.752263  0.207480\n",
              "175  3.027272 -2.756040 -0.940803\n",
              "176  2.755222 -2.293784 -0.550474\n",
              "177  3.496336 -2.760608  1.013151\n",
              "\n",
              "[178 rows x 3 columns]"
            ]
          },
          "metadata": {
            "tags": []
          },
          "execution_count": 100
        }
      ]
    },
    {
      "cell_type": "code",
      "metadata": {
        "id": "NbXIvIsVVsKb"
      },
      "source": [
        "#Normalization function\n",
        "def norm_func(i):\n",
        "    x = (i-i.min())/(i.max()-i.min())\n",
        "    return (x)"
      ],
      "execution_count": 101,
      "outputs": []
    },
    {
      "cell_type": "code",
      "metadata": {
        "id": "p0wAEi9_WHvj"
      },
      "source": [
        "df_norm = norm_func(finalDF)"
      ],
      "execution_count": 102,
      "outputs": []
    },
    {
      "cell_type": "code",
      "metadata": {
        "colab": {
          "base_uri": "https://localhost:8080/",
          "height": 265
        },
        "id": "SYCJ2RAHWVBg",
        "outputId": "65576916-c95a-4968-fe43-b5a9d72c047e"
      },
      "source": [
        "dendrogram = sch.dendrogram(sch.linkage(df_norm, method='single'))"
      ],
      "execution_count": 103,
      "outputs": [
        {
          "output_type": "display_data",
          "data": {
            "image/png": "[encoded data removed]",
            "text/plain": [
              "<Figure size 432x288 with 1 Axes>"
            ]
          },
          "metadata": {
            "tags": [],
            "needs_background": "light"
          }
        }
      ]
    },
    {
      "cell_type": "code",
      "metadata": {
        "id": "B685p6-DWcbX"
      },
      "source": [
        "#Create clusters\n",
        "hc = AgglomerativeClustering(n_clusters=3, affinity='euclidean', linkage='single')"
      ],
      "execution_count": 117,
      "outputs": []
    },
    {
      "cell_type": "code",
      "metadata": {
        "id": "2X05XeLxWto9"
      },
      "source": [
        "y_hc = hc.fit_predict(df_norm)"
      ],
      "execution_count": 118,
      "outputs": []
    },
    {
      "cell_type": "code",
      "metadata": {
        "colab": {
          "base_uri": "https://localhost:8080/"
        },
        "id": "O3IQuvdHWykJ",
        "outputId": "6b755226-3bf1-4bce-8d0a-1b5fb01f824f"
      },
      "source": [
        "y_hc"
      ],
      "execution_count": 119,
      "outputs": [
        {
          "output_type": "execute_result",
          "data": {
            "text/plain": [
              "array([0, 0, 0, 0, 0, 0, 0, 0, 0, 0, 0, 0, 0, 0, 0, 0, 0, 0, 0, 0, 0, 0,\n",
              "       0, 0, 0, 0, 0, 0, 0, 0, 0, 0, 0, 0, 0, 0, 0, 0, 0, 0, 0, 0, 0, 0,\n",
              "       0, 0, 0, 0, 0, 0, 0, 0, 0, 0, 0, 0, 0, 0, 0, 1, 0, 0, 0, 0, 0, 0,\n",
              "       0, 0, 0, 0, 0, 0, 0, 0, 0, 0, 0, 0, 0, 0, 0, 0, 0, 0, 0, 0, 0, 0,\n",
              "       0, 0, 0, 0, 0, 0, 0, 0, 0, 0, 0, 0, 0, 0, 0, 0, 0, 0, 0, 0, 0, 0,\n",
              "       0, 0, 0, 0, 0, 2, 0, 0, 0, 0, 0, 0, 0, 0, 0, 0, 0, 0, 0, 0, 0, 0,\n",
              "       0, 0, 0, 0, 0, 0, 0, 0, 0, 0, 0, 0, 0, 0, 0, 0, 0, 0, 0, 0, 0, 0,\n",
              "       0, 0, 0, 0, 0, 0, 0, 0, 0, 0, 0, 0, 0, 0, 0, 0, 0, 0, 0, 0, 0, 0,\n",
              "       0, 0])"
            ]
          },
          "metadata": {
            "tags": []
          },
          "execution_count": 119
        }
      ]
    },
    {
      "cell_type": "code",
      "metadata": {
        "id": "KVsgtkgIW3Ev"
      },
      "source": [
        "# Create a new data frame for clusters number\n",
        "Clusters = pd.DataFrame(y_hc, columns=['Clusters_hc'])"
      ],
      "execution_count": 120,
      "outputs": []
    },
    {
      "cell_type": "code",
      "metadata": {
        "colab": {
          "base_uri": "https://localhost:8080/",
          "height": 359
        },
        "id": "3MUtUiuoYbH9",
        "outputId": "d2995ebc-d5cc-4a0e-dd3f-529aa01e8ded"
      },
      "source": [
        "Clusters.iloc[:10,:]"
      ],
      "execution_count": 123,
      "outputs": [
        {
          "output_type": "execute_result",
          "data": {
            "text/html": [
              "<div>\n",
              "<style scoped>\n",
              "    .dataframe tbody tr th:only-of-type {\n",
              "        vertical-align: middle;\n",
              "    }\n",
              "\n",
              "    .dataframe tbody tr th {\n",
              "        vertical-align: top;\n",
              "    }\n",
              "\n",
              "    .dataframe thead th {\n",
              "        text-align: right;\n",
              "    }\n",
              "</style>\n",
              "<table border=\"1\" class=\"dataframe\">\n",
              "  <thead>\n",
              "    <tr style=\"text-align: right;\">\n",
              "      <th></th>\n",
              "      <th>Clusters_hc</th>\n",
              "    </tr>\n",
              "  </thead>\n",
              "  <tbody>\n",
              "    <tr>\n",
              "      <th>0</th>\n",
              "      <td>0</td>\n",
              "    </tr>\n",
              "    <tr>\n",
              "      <th>1</th>\n",
              "      <td>0</td>\n",
              "    </tr>\n",
              "    <tr>\n",
              "      <th>2</th>\n",
              "      <td>0</td>\n",
              "    </tr>\n",
              "    <tr>\n",
              "      <th>3</th>\n",
              "      <td>0</td>\n",
              "    </tr>\n",
              "    <tr>\n",
              "      <th>4</th>\n",
              "      <td>0</td>\n",
              "    </tr>\n",
              "    <tr>\n",
              "      <th>5</th>\n",
              "      <td>0</td>\n",
              "    </tr>\n",
              "    <tr>\n",
              "      <th>6</th>\n",
              "      <td>0</td>\n",
              "    </tr>\n",
              "    <tr>\n",
              "      <th>7</th>\n",
              "      <td>0</td>\n",
              "    </tr>\n",
              "    <tr>\n",
              "      <th>8</th>\n",
              "      <td>0</td>\n",
              "    </tr>\n",
              "    <tr>\n",
              "      <th>9</th>\n",
              "      <td>0</td>\n",
              "    </tr>\n",
              "  </tbody>\n",
              "</table>\n",
              "</div>"
            ],
            "text/plain": [
              "   Clusters_hc\n",
              "0            0\n",
              "1            0\n",
              "2            0\n",
              "3            0\n",
              "4            0\n",
              "5            0\n",
              "6            0\n",
              "7            0\n",
              "8            0\n",
              "9            0"
            ]
          },
          "metadata": {
            "tags": []
          },
          "execution_count": 123
        }
      ]
    },
    {
      "cell_type": "code",
      "metadata": {
        "id": "Kh-LS-qmYfxA"
      },
      "source": [
        "df_norm['Clusterid_hc'] = Clusters"
      ],
      "execution_count": 124,
      "outputs": []
    },
    {
      "cell_type": "code",
      "metadata": {
        "colab": {
          "base_uri": "https://localhost:8080/",
          "height": 419
        },
        "id": "qR35-bTgYzoM",
        "outputId": "4e743ffb-306a-4269-923f-3fe39ffa739f"
      },
      "source": [
        "df_norm"
      ],
      "execution_count": 125,
      "outputs": [
        {
          "output_type": "execute_result",
          "data": {
            "text/html": [
              "<div>\n",
              "<style scoped>\n",
              "    .dataframe tbody tr th:only-of-type {\n",
              "        vertical-align: middle;\n",
              "    }\n",
              "\n",
              "    .dataframe tbody tr th {\n",
              "        vertical-align: top;\n",
              "    }\n",
              "\n",
              "    .dataframe thead th {\n",
              "        text-align: right;\n",
              "    }\n",
              "</style>\n",
              "<table border=\"1\" class=\"dataframe\">\n",
              "  <thead>\n",
              "    <tr style=\"text-align: right;\">\n",
              "      <th></th>\n",
              "      <th>pc1</th>\n",
              "      <th>pc2</th>\n",
              "      <th>pc3</th>\n",
              "      <th>Clusterid_hc</th>\n",
              "    </tr>\n",
              "  </thead>\n",
              "  <tbody>\n",
              "    <tr>\n",
              "      <th>0</th>\n",
              "      <td>0.103200</td>\n",
              "      <td>0.279639</td>\n",
              "      <td>0.445096</td>\n",
              "      <td>0</td>\n",
              "    </tr>\n",
              "    <tr>\n",
              "      <th>1</th>\n",
              "      <td>0.214875</td>\n",
              "      <td>0.520989</td>\n",
              "      <td>0.257637</td>\n",
              "      <td>0</td>\n",
              "    </tr>\n",
              "    <tr>\n",
              "      <th>2</th>\n",
              "      <td>0.186097</td>\n",
              "      <td>0.335968</td>\n",
              "      <td>0.560682</td>\n",
              "      <td>0</td>\n",
              "    </tr>\n",
              "    <tr>\n",
              "      <th>3</th>\n",
              "      <td>0.058303</td>\n",
              "      <td>0.101634</td>\n",
              "      <td>0.444072</td>\n",
              "      <td>0</td>\n",
              "    </tr>\n",
              "    <tr>\n",
              "      <th>4</th>\n",
              "      <td>0.340848</td>\n",
              "      <td>0.358864</td>\n",
              "      <td>0.665651</td>\n",
              "      <td>0</td>\n",
              "    </tr>\n",
              "    <tr>\n",
              "      <th>...</th>\n",
              "      <td>...</td>\n",
              "      <td>...</td>\n",
              "      <td>...</td>\n",
              "      <td>...</td>\n",
              "    </tr>\n",
              "    <tr>\n",
              "      <th>173</th>\n",
              "      <td>0.906538</td>\n",
              "      <td>0.177648</td>\n",
              "      <td>0.427087</td>\n",
              "      <td>0</td>\n",
              "    </tr>\n",
              "    <tr>\n",
              "      <th>174</th>\n",
              "      <td>0.829555</td>\n",
              "      <td>0.239146</td>\n",
              "      <td>0.482577</td>\n",
              "      <td>0</td>\n",
              "    </tr>\n",
              "    <tr>\n",
              "      <th>175</th>\n",
              "      <td>0.839053</td>\n",
              "      <td>0.103282</td>\n",
              "      <td>0.366967</td>\n",
              "      <td>0</td>\n",
              "    </tr>\n",
              "    <tr>\n",
              "      <th>176</th>\n",
              "      <td>0.808490</td>\n",
              "      <td>0.165849</td>\n",
              "      <td>0.406266</td>\n",
              "      <td>0</td>\n",
              "    </tr>\n",
              "    <tr>\n",
              "      <th>177</th>\n",
              "      <td>0.891747</td>\n",
              "      <td>0.102663</td>\n",
              "      <td>0.563693</td>\n",
              "      <td>0</td>\n",
              "    </tr>\n",
              "  </tbody>\n",
              "</table>\n",
              "<p>178 rows × 4 columns</p>\n",
              "</div>"
            ],
            "text/plain": [
              "          pc1       pc2       pc3  Clusterid_hc\n",
              "0    0.103200  0.279639  0.445096             0\n",
              "1    0.214875  0.520989  0.257637             0\n",
              "2    0.186097  0.335968  0.560682             0\n",
              "3    0.058303  0.101634  0.444072             0\n",
              "4    0.340848  0.358864  0.665651             0\n",
              "..        ...       ...       ...           ...\n",
              "173  0.906538  0.177648  0.427087             0\n",
              "174  0.829555  0.239146  0.482577             0\n",
              "175  0.839053  0.103282  0.366967             0\n",
              "176  0.808490  0.165849  0.406266             0\n",
              "177  0.891747  0.102663  0.563693             0\n",
              "\n",
              "[178 rows x 4 columns]"
            ]
          },
          "metadata": {
            "tags": []
          },
          "execution_count": 125
        }
      ]
    },
    {
      "cell_type": "code",
      "metadata": {
        "colab": {
          "base_uri": "https://localhost:8080/",
          "height": 439
        },
        "id": "94S_yUDlY1X6",
        "outputId": "d8d35457-943c-4e43-d7b7-dea2958a9201"
      },
      "source": [
        "data['Clusterid_hc'] = Clusters\n",
        "data"
      ],
      "execution_count": 126,
      "outputs": [
        {
          "output_type": "execute_result",
          "data": {
            "text/html": [
              "<div>\n",
              "<style scoped>\n",
              "    .dataframe tbody tr th:only-of-type {\n",
              "        vertical-align: middle;\n",
              "    }\n",
              "\n",
              "    .dataframe tbody tr th {\n",
              "        vertical-align: top;\n",
              "    }\n",
              "\n",
              "    .dataframe thead th {\n",
              "        text-align: right;\n",
              "    }\n",
              "</style>\n",
              "<table border=\"1\" class=\"dataframe\">\n",
              "  <thead>\n",
              "    <tr style=\"text-align: right;\">\n",
              "      <th></th>\n",
              "      <th>Type</th>\n",
              "      <th>Alcohol</th>\n",
              "      <th>Malic</th>\n",
              "      <th>Ash</th>\n",
              "      <th>Alcalinity</th>\n",
              "      <th>Magnesium</th>\n",
              "      <th>Phenols</th>\n",
              "      <th>Flavanoids</th>\n",
              "      <th>Nonflavanoids</th>\n",
              "      <th>Proanthocyanins</th>\n",
              "      <th>Color</th>\n",
              "      <th>Hue</th>\n",
              "      <th>Dilution</th>\n",
              "      <th>Proline</th>\n",
              "      <th>Clusterid_Kmeans</th>\n",
              "      <th>Clusterid_hc</th>\n",
              "    </tr>\n",
              "  </thead>\n",
              "  <tbody>\n",
              "    <tr>\n",
              "      <th>0</th>\n",
              "      <td>1</td>\n",
              "      <td>14.23</td>\n",
              "      <td>1.71</td>\n",
              "      <td>2.43</td>\n",
              "      <td>15.6</td>\n",
              "      <td>127</td>\n",
              "      <td>2.80</td>\n",
              "      <td>3.06</td>\n",
              "      <td>0.28</td>\n",
              "      <td>2.29</td>\n",
              "      <td>5.64</td>\n",
              "      <td>1.04</td>\n",
              "      <td>3.92</td>\n",
              "      <td>1065</td>\n",
              "      <td>1</td>\n",
              "      <td>0</td>\n",
              "    </tr>\n",
              "    <tr>\n",
              "      <th>1</th>\n",
              "      <td>1</td>\n",
              "      <td>13.20</td>\n",
              "      <td>1.78</td>\n",
              "      <td>2.14</td>\n",
              "      <td>11.2</td>\n",
              "      <td>100</td>\n",
              "      <td>2.65</td>\n",
              "      <td>2.76</td>\n",
              "      <td>0.26</td>\n",
              "      <td>1.28</td>\n",
              "      <td>4.38</td>\n",
              "      <td>1.05</td>\n",
              "      <td>3.40</td>\n",
              "      <td>1050</td>\n",
              "      <td>1</td>\n",
              "      <td>0</td>\n",
              "    </tr>\n",
              "    <tr>\n",
              "      <th>2</th>\n",
              "      <td>1</td>\n",
              "      <td>13.16</td>\n",
              "      <td>2.36</td>\n",
              "      <td>2.67</td>\n",
              "      <td>18.6</td>\n",
              "      <td>101</td>\n",
              "      <td>2.80</td>\n",
              "      <td>3.24</td>\n",
              "      <td>0.30</td>\n",
              "      <td>2.81</td>\n",
              "      <td>5.68</td>\n",
              "      <td>1.03</td>\n",
              "      <td>3.17</td>\n",
              "      <td>1185</td>\n",
              "      <td>1</td>\n",
              "      <td>0</td>\n",
              "    </tr>\n",
              "    <tr>\n",
              "      <th>3</th>\n",
              "      <td>1</td>\n",
              "      <td>14.37</td>\n",
              "      <td>1.95</td>\n",
              "      <td>2.50</td>\n",
              "      <td>16.8</td>\n",
              "      <td>113</td>\n",
              "      <td>3.85</td>\n",
              "      <td>3.49</td>\n",
              "      <td>0.24</td>\n",
              "      <td>2.18</td>\n",
              "      <td>7.80</td>\n",
              "      <td>0.86</td>\n",
              "      <td>3.45</td>\n",
              "      <td>1480</td>\n",
              "      <td>1</td>\n",
              "      <td>0</td>\n",
              "    </tr>\n",
              "    <tr>\n",
              "      <th>4</th>\n",
              "      <td>1</td>\n",
              "      <td>13.24</td>\n",
              "      <td>2.59</td>\n",
              "      <td>2.87</td>\n",
              "      <td>21.0</td>\n",
              "      <td>118</td>\n",
              "      <td>2.80</td>\n",
              "      <td>2.69</td>\n",
              "      <td>0.39</td>\n",
              "      <td>1.82</td>\n",
              "      <td>4.32</td>\n",
              "      <td>1.04</td>\n",
              "      <td>2.93</td>\n",
              "      <td>735</td>\n",
              "      <td>3</td>\n",
              "      <td>0</td>\n",
              "    </tr>\n",
              "    <tr>\n",
              "      <th>...</th>\n",
              "      <td>...</td>\n",
              "      <td>...</td>\n",
              "      <td>...</td>\n",
              "      <td>...</td>\n",
              "      <td>...</td>\n",
              "      <td>...</td>\n",
              "      <td>...</td>\n",
              "      <td>...</td>\n",
              "      <td>...</td>\n",
              "      <td>...</td>\n",
              "      <td>...</td>\n",
              "      <td>...</td>\n",
              "      <td>...</td>\n",
              "      <td>...</td>\n",
              "      <td>...</td>\n",
              "      <td>...</td>\n",
              "    </tr>\n",
              "    <tr>\n",
              "      <th>173</th>\n",
              "      <td>3</td>\n",
              "      <td>13.71</td>\n",
              "      <td>5.65</td>\n",
              "      <td>2.45</td>\n",
              "      <td>20.5</td>\n",
              "      <td>95</td>\n",
              "      <td>1.68</td>\n",
              "      <td>0.61</td>\n",
              "      <td>0.52</td>\n",
              "      <td>1.06</td>\n",
              "      <td>7.70</td>\n",
              "      <td>0.64</td>\n",
              "      <td>1.74</td>\n",
              "      <td>740</td>\n",
              "      <td>0</td>\n",
              "      <td>0</td>\n",
              "    </tr>\n",
              "    <tr>\n",
              "      <th>174</th>\n",
              "      <td>3</td>\n",
              "      <td>13.40</td>\n",
              "      <td>3.91</td>\n",
              "      <td>2.48</td>\n",
              "      <td>23.0</td>\n",
              "      <td>102</td>\n",
              "      <td>1.80</td>\n",
              "      <td>0.75</td>\n",
              "      <td>0.43</td>\n",
              "      <td>1.41</td>\n",
              "      <td>7.30</td>\n",
              "      <td>0.70</td>\n",
              "      <td>1.56</td>\n",
              "      <td>750</td>\n",
              "      <td>0</td>\n",
              "      <td>0</td>\n",
              "    </tr>\n",
              "    <tr>\n",
              "      <th>175</th>\n",
              "      <td>3</td>\n",
              "      <td>13.27</td>\n",
              "      <td>4.28</td>\n",
              "      <td>2.26</td>\n",
              "      <td>20.0</td>\n",
              "      <td>120</td>\n",
              "      <td>1.59</td>\n",
              "      <td>0.69</td>\n",
              "      <td>0.43</td>\n",
              "      <td>1.35</td>\n",
              "      <td>10.20</td>\n",
              "      <td>0.59</td>\n",
              "      <td>1.56</td>\n",
              "      <td>835</td>\n",
              "      <td>0</td>\n",
              "      <td>0</td>\n",
              "    </tr>\n",
              "    <tr>\n",
              "      <th>176</th>\n",
              "      <td>3</td>\n",
              "      <td>13.17</td>\n",
              "      <td>2.59</td>\n",
              "      <td>2.37</td>\n",
              "      <td>20.0</td>\n",
              "      <td>120</td>\n",
              "      <td>1.65</td>\n",
              "      <td>0.68</td>\n",
              "      <td>0.53</td>\n",
              "      <td>1.46</td>\n",
              "      <td>9.30</td>\n",
              "      <td>0.60</td>\n",
              "      <td>1.62</td>\n",
              "      <td>840</td>\n",
              "      <td>0</td>\n",
              "      <td>0</td>\n",
              "    </tr>\n",
              "    <tr>\n",
              "      <th>177</th>\n",
              "      <td>3</td>\n",
              "      <td>14.13</td>\n",
              "      <td>4.10</td>\n",
              "      <td>2.74</td>\n",
              "      <td>24.5</td>\n",
              "      <td>96</td>\n",
              "      <td>2.05</td>\n",
              "      <td>0.76</td>\n",
              "      <td>0.56</td>\n",
              "      <td>1.35</td>\n",
              "      <td>9.20</td>\n",
              "      <td>0.61</td>\n",
              "      <td>1.60</td>\n",
              "      <td>560</td>\n",
              "      <td>0</td>\n",
              "      <td>0</td>\n",
              "    </tr>\n",
              "  </tbody>\n",
              "</table>\n",
              "<p>178 rows × 16 columns</p>\n",
              "</div>"
            ],
            "text/plain": [
              "     Type  Alcohol  Malic  ...  Proline  Clusterid_Kmeans  Clusterid_hc\n",
              "0       1    14.23   1.71  ...     1065                 1             0\n",
              "1       1    13.20   1.78  ...     1050                 1             0\n",
              "2       1    13.16   2.36  ...     1185                 1             0\n",
              "3       1    14.37   1.95  ...     1480                 1             0\n",
              "4       1    13.24   2.59  ...      735                 3             0\n",
              "..    ...      ...    ...  ...      ...               ...           ...\n",
              "173     3    13.71   5.65  ...      740                 0             0\n",
              "174     3    13.40   3.91  ...      750                 0             0\n",
              "175     3    13.27   4.28  ...      835                 0             0\n",
              "176     3    13.17   2.59  ...      840                 0             0\n",
              "177     3    14.13   4.10  ...      560                 0             0\n",
              "\n",
              "[178 rows x 16 columns]"
            ]
          },
          "metadata": {
            "tags": []
          },
          "execution_count": 126
        }
      ]
    },
    {
      "cell_type": "code",
      "metadata": {
        "id": "jwCkmoJkZBf2"
      },
      "source": [
        ""
      ],
      "execution_count": null,
      "outputs": []
    },
    {
      "cell_type": "markdown",
      "metadata": {
        "id": "HDQhqUrtZKpB"
      },
      "source": [
        "#Result : We have not obtained the same clusters using both the methods."
      ]
    },
    {
      "cell_type": "code",
      "metadata": {
        "id": "5FOfG05FZdRY"
      },
      "source": [
        ""
      ],
      "execution_count": null,
      "outputs": []
    }
  ]
}